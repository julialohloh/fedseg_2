{
 "cells": [
  {
   "cell_type": "code",
   "execution_count": 33,
   "id": "0408b967",
   "metadata": {},
   "outputs": [],
   "source": [
    "# latest preprocessing\n",
    "import cv2, os, glob, h5py, yaml, math\n",
    "import pathlib\n",
    "import scipy.io\n",
    "import tqdm\n",
    "import re\n",
    "import pandas as pd\n",
    "import numpy as np\n",
    "from skimage import io\n",
    "import matplotlib.pyplot as plt\n",
    "from sklearn.model_selection import train_test_split\n",
    "from scipy.io import savemat"
   ]
  },
  {
   "cell_type": "code",
   "execution_count": 34,
   "id": "cee11091",
   "metadata": {},
   "outputs": [],
   "source": [
    "config_path = \"preprocess_config_preclinical.yaml\"\n",
    "\n",
    "with open(config_path) as file:\n",
    "    config = yaml.load(file, Loader=yaml.FullLoader)"
   ]
  },
  {
   "cell_type": "code",
   "execution_count": 35,
   "id": "1514d264",
   "metadata": {},
   "outputs": [],
   "source": [
    "def get_wmap(lmap_array):\n",
    "    \n",
    "    \"\"\"Get weighted matrix for weighting loss for background, surfaces and boundaries\n",
    "        Args:\n",
    "            lmap_array (numpy array): numpy array of label\n",
    "        Returns:\n",
    "            wmap (numpy array): weighted matrix\n",
    "\n",
    "    \"\"\"\n",
    "    \n",
    "    lmap_max = np.argmax(lmap_array, axis=1) # get argmax of layers\n",
    "    lmap_shifted = np.ones(lmap_max.shape) # set with background\n",
    "    lmap_shifted[:,1:] = lmap_max[:,:-1] # get shifted form of layers\n",
    "    lmap_diff = (lmap_max - lmap_shifted)\n",
    "    lmap_diff[lmap_diff==-1] = 1\n",
    "    combined = 5*(lmap_max==1)+10*lmap_diff # get weighting => last layer is backgrounds\n",
    "    combined[combined==10] = 15\n",
    "    wmap = combined+1\n",
    "    return wmap\n",
    "\n",
    "def convert_label_png_to_mask(annotation, HEIGHT, WIDTH):\n",
    "    \"\"\"Converts 2 dimentional png label input into one-hot encoded target mask\n",
    "        Args:\n",
    "            annotation (numpy array): numpy array of label\n",
    "            HEIGHT (int): height of image \n",
    "            WIDTH (int): width of image\n",
    "        Returns:\n",
    "            layers (numpy array): one-hot encoded target mask\n",
    "\n",
    "    \"\"\"\n",
    "    layers = np.zeros((3,HEIGHT,WIDTH)) #hardcoded for this instance, can change to max of annotation\n",
    "    for h in range(HEIGHT):\n",
    "        for w in range(WIDTH):\n",
    "            layers[annotation[h,w], h,w] = 1\n",
    "    return layers"
   ]
  },
  {
   "cell_type": "code",
   "execution_count": 36,
   "id": "f4008e3e",
   "metadata": {},
   "outputs": [],
   "source": [
    "class processData:\n",
    "    \"\"\"Class for preprocessing data \n",
    "    \"\"\"\n",
    "    \n",
    "    def __init__(self, config):\n",
    "        \n",
    "        \"\"\"\"\n",
    "        Args:\n",
    "            config (dict): dictionary of configuration parameters from preprocess_config_preclinical.yaml\n",
    "        \"\"\"\n",
    "        self.mode = config['general']['mode']\n",
    "        self.sliding_window = config['general']['sliding_window']\n",
    "        \n",
    "        self.image_path = config['filepaths']['image_path']\n",
    "        self.label_path = config['filepaths']['label_path']\n",
    "        self.processed_path = config['filepaths']['processed_path']\n",
    "        self.image_ext = config['filepaths']['image_ext']\n",
    "        \n",
    "        self.datasets = {\"training\":[], \"val\":[], \"test\":[]}\n",
    "        self.postprocessed_data = None\n",
    "        self.height = None\n",
    "        self.width = None\n",
    "        self.bscans = None\n",
    "        self.layers = None\n",
    "        self.data_list = ['data', 'lmap', 'wmap']\n",
    "        \n",
    "    def prepare_dataset(self, partition_idx):\n",
    "        \"\"\" Obtain the folders corresponding to a specific partition idx. This is for partition training.\n",
    "            Args:\n",
    "                partition_idx (int): Integer corresponding to the partition idx\n",
    "            Returns:\n",
    "                None\n",
    "        \"\"\"\n",
    "        idx = partition_idx\n",
    "        \n",
    "        #Partition splitting \n",
    "        \n",
    "        self.idx = partition_idx\n",
    "        dataset_splitting_train = pd.read_csv('../20220715_final_oct_synergos_split/splitting_edited_train_edited.csv')\n",
    "        dataset_splitting_val = pd.read_csv('../20220715_final_oct_synergos_split/splitting_edited_val_edited.csv')\n",
    "        dataset_splitting_test = pd.read_csv('../20220715_final_oct_synergos_split/splitting_edited_test_edited.csv')\n",
    "        \n",
    "        self.datasets['training'] = [os.path.join(*f.split(os.path.sep)[-2:]) for f in dataset_splitting_train[dataset_splitting_train['partition']==idx]['folders'].tolist()]\n",
    "        \n",
    "        self.datasets['val'] = [os.path.join(*f.split(os.path.sep)[-2:]) for f in dataset_splitting_val[dataset_splitting_val['partition']==idx]['folders'].tolist()]\n",
    "        \n",
    "        self.datasets['test'] = [os.path.join(*f.split(os.path.sep)[-2:]) for f in dataset_splitting_test[dataset_splitting_test['partition']==idx]['folders'].tolist()]\n",
    "\n",
    "    def prepare_dataset_all(self):\n",
    "        \"\"\" Obtain the folders for centralised training. \n",
    "            Args:\n",
    "                None\n",
    "            Returns:\n",
    "                None\n",
    "        \"\"\"\n",
    "        \n",
    "        self.idx = 'all'\n",
    "        dataset_splitting_train = pd.read_csv('../20220715_final_oct_synergos_split/splitting_edited_train_edited.csv')\n",
    "        dataset_splitting_val = pd.read_csv('../20220715_final_oct_synergos_split/splitting_edited_val_edited.csv')\n",
    "        dataset_splitting_test = pd.read_csv('../20220715_final_oct_synergos_split/splitting_edited_test_edited.csv')\n",
    "        \n",
    "        self.datasets['training'] = [os.path.join(*f.split(os.path.sep)[-2:]) for f in dataset_splitting_train['folders'].tolist()]\n",
    "        \n",
    "        self.datasets['val'] = [os.path.join(*f.split(os.path.sep)[-2:]) for f in dataset_splitting_val['folders'].tolist()]\n",
    "        \n",
    "        self.datasets['test'] = [os.path.join(*f.split(os.path.sep)[-2:]) for f in dataset_splitting_test['folders'].tolist()]\n",
    "            \n",
    "                \n",
    "    def get_sliding_window(self, data_store, patient_name): # one patient\n",
    "        \"\"\"divide image, label, and weighted matrix into patches\n",
    "            Args:\n",
    "                data_store (dict): dictionary of image, label and weighted matrix array\n",
    "                patient_name (str): folder name\n",
    "            Returns:\n",
    "                post (dict): dictionary of image, label and weighted matrix divided into patches\n",
    "                all_data (list): list of dataset, scan, and the cropped location\n",
    "        \n",
    "        \"\"\"\n",
    "        \n",
    "        indices = [*range(0,self.width-self.sliding_window+1,self.sliding_window)]\n",
    "        post = {k:np.zeros((self.bscans, len(indices), self.height, self.sliding_window)) for k in self.data_list}\n",
    "        post['lmap'] =  np.zeros((self.bscans, len(indices), self.layers, self.height,self.sliding_window))\n",
    "        \n",
    "        all_data = []\n",
    "        for scan in range(self.bscans):\n",
    "            for idx,z in enumerate(indices):\n",
    "                top = 0\n",
    "                bottom = self.height\n",
    "                left = z\n",
    "                right = z+self.sliding_window\n",
    "                for datatype in self.data_list:\n",
    "                    if datatype in data_store.keys():\n",
    "                        if datatype == 'lmap':\n",
    "                            post[datatype][scan, idx] = data_store[datatype][scan, :,top:bottom, left:right]\n",
    "                        else:\n",
    "                            post[datatype][scan, idx] = data_store[datatype][scan, top:bottom, left:right]\n",
    "                \n",
    "                all_data.append([patient_name, scan, top, bottom, left, right])\n",
    "\n",
    "        return post, all_data\n",
    "    \n",
    "    def process_one_file(self, dataset):\n",
    "        \"\"\"read images and corresponding label for 1 folder.\n",
    "            Args:\n",
    "                dataset (str): file path of one folder of images \n",
    "            Returns:\n",
    "                data_store (dict): dictionary of image, label and weighted matrix array\n",
    "        \n",
    "        \"\"\"\n",
    "        \n",
    "        image_paths = glob.glob(os.path.join(self.image_path, dataset, '*'+self.image_ext))\n",
    "        # print(f\"self.image_path: {self.image_path}\")\n",
    "        # print(f\"dataset: {dataset}\")\n",
    "        # print(f\"image paths: {image_paths}\")\n",
    "        images_array = []\n",
    "        lmap_array = []\n",
    "    \n",
    "        for i in range(len(image_paths)):\n",
    "            image_path = image_paths[i]\n",
    "            img = io.imread(image_path)\n",
    "            if img.dtype == 'uint8':\n",
    "                img = img/255\n",
    "            elif img.dtype == 'uint16':\n",
    "                img = img*(1.0 / 65535.0)\n",
    "            \n",
    "            #find corresponding label \n",
    "            image_path_stem = pathlib.Path(image_paths[i]).stem\n",
    "            label_path = label_fullpath = os.path.join(self.label_path,dataset,image_path_stem+'.png')\n",
    "            label = io.imread(label_path)\n",
    "            lmap = convert_label_png_to_mask(label,label.shape[0], label.shape[1])\n",
    "            \n",
    "            \n",
    "            #appending image and lmap to respective arrays\n",
    "            images_array.append(img)\n",
    "            lmap_array.append(lmap)\n",
    "\n",
    "        wmap_array = get_wmap(np.array(lmap_array))\n",
    "        \n",
    "        return {'data':np.array(images_array), 'lmap': np.array(lmap_array), 'wmap': wmap_array}\n",
    "    \n",
    "\n",
    "     \n",
    "    def create_dataset(self, mode):\n",
    "        \"\"\"Read and convert into patches by folder.  \n",
    "            Args:\n",
    "                mode (str): \"training\", \"val\" or \"test\"\n",
    "            Returns:\n",
    "                postprocessed_data (dict): stores postprocessed data for each folder.\n",
    "        \"\"\"\n",
    "\n",
    "        postprocessed_data = {k:[] for k in self.data_list}\n",
    "        postprocessed_data['meta_data'] = []\n",
    "\n",
    "        for count,dataset in enumerate(tqdm.tqdm(self.datasets[mode])):\n",
    "\n",
    "            data_store = self.process_one_file(dataset)\n",
    "            self.layers = data_store['lmap'].shape[1]\n",
    "            self.bscans = data_store['data'].shape[0]\n",
    "            self.height = data_store['data'].shape[1]\n",
    "            self.width = data_store['data'].shape[2]\n",
    "            data_store, all_data = self.get_sliding_window(data_store, dataset)\n",
    "\n",
    "            for datatype in self.data_list:\n",
    "                if datatype == 'lmap':\n",
    "                    postprocessed_data[datatype].append(data_store[datatype].reshape(-1, self.layers, self.height, self.sliding_window))\n",
    "                else:\n",
    "                    postprocessed_data[datatype].append(data_store[datatype].reshape(-1, self.height, self.sliding_window))\n",
    "        \n",
    "            postprocessed_data['meta_data'].append(all_data)\n",
    "        for datatype in self.data_list:\n",
    "                postprocessed_data[datatype] = np.concatenate(postprocessed_data[datatype], axis=0)\n",
    "        return postprocessed_data\n",
    "        \n",
    "    def save_data(self, df, mode):\n",
    "        \n",
    "        \"\"\"save data \n",
    "            Args:\n",
    "                df (str): dataframe of patch information\n",
    "                mode (str): \"training\", \"val\" or \"test\" \n",
    "            Returns:\n",
    "                None\n",
    "        \"\"\"\n",
    "        pathlib.Path(os.path.join(self.processed_path, 'FL_Partition_Model_' + str(self.idx))).mkdir(parents=True, exist_ok=True)\n",
    "        df.to_csv('{}/{}/{}_reconstruct_data.csv'.format(self.processed_path, 'FL_Partition_Model_' + str(self.idx), mode), index=False)\n",
    "        f= open(\"{}/{}/{}_dataset.txt\".format(self.processed_path, 'FL_Partition_Model_' + str(self.idx), mode),\"w+\")\n",
    "        for i in range(len(self.datasets[mode])):\n",
    "            f.write(\"{}\\n\".format(self.datasets[mode][i]))\n",
    "        f.close() \n",
    "        \n",
    "        with h5py.File(os.path.join(self.processed_path, 'FL_Partition_Model_' + str(self.idx), '{}_intermediate.hdf5'.format(mode)), 'w') as hf:\n",
    "            for datatype in self.data_list:\n",
    "                hf.create_dataset(datatype, data=np.array(self.postprocessed_data[datatype]))\n",
    "        hf.close()\n",
    "        \n",
    "    def make_dataset(self, mode, save):\n",
    "        \"\"\"Preprocess the dataset for a particular mode \"training\", \"val\" or \"test\".  \n",
    "            Args:\n",
    "                mode (str): \"training\", \"val\" or \"test\"\n",
    "                save (bool): whether to save the data  \n",
    "            Returns:\n",
    "                None\n",
    "        \"\"\"\n",
    "        if mode  == 'training' or mode == 'val':\n",
    "            pathlib.Path(os.path.join(self.processed_path)).mkdir(parents=True, exist_ok=True)\n",
    "            self.postprocessed_data = self.create_dataset(mode)\n",
    "            # save data information and files\n",
    "            flat_list = [item for sublist in self.postprocessed_data['meta_data'] for item in sublist]\n",
    "            df = pd.DataFrame(flat_list, columns = ['patient_name', 'slice_number','top','bottom','left','right']) \n",
    "\n",
    "            if save == True: self.save_data(df, mode)\n",
    "        elif mode == 'test':\n",
    "            pathlib.Path(os.path.join(self.processed_path)).mkdir(parents=True, exist_ok=True)\n",
    "            if save == True:\n",
    "                f= open(\"{}/{}_dataset.txt\".format(self.processed_path, mode),\"w+\")\n",
    "                for i in range(len(self.datasets[mode])):\n",
    "                    f.write(\"{}\\n\".format(self.datasets[mode][i]))\n",
    "                f.close() "
   ]
  },
  {
   "cell_type": "code",
   "execution_count": 37,
   "id": "6264b577-116f-4131-8b51-7100ba9e9a8f",
   "metadata": {},
   "outputs": [
    {
     "name": "stdout",
     "output_type": "stream",
     "text": [
      "mode: None\n",
      "Sliding window: 64\n",
      "Datasets: {'training': [], 'val': [], 'test': []}\n",
      "Image path: ../20220715_final_oct_synergos/Data\n",
      "Label Path:../20220715_final_oct_synergos/Segmentations\n",
      "Processed path:./processed\n",
      "Image Ext:.tif\n"
     ]
    }
   ],
   "source": [
    "\n",
    "process_data = processData(config) #may want to change selected scans\n",
    "print(f\"mode: {process_data.mode}\")\n",
    "print(f\"Sliding window: {process_data.sliding_window}\")\n",
    "print(f\"Datasets: {process_data.datasets}\")      \n",
    "print(f\"Image path: {process_data.image_path}\")\n",
    "print(f\"Label Path:{process_data.label_path}\")\n",
    "print(f\"Processed path:{process_data.processed_path}\")\n",
    "print(f\"Image Ext:{process_data.image_ext}\")"
   ]
  },
  {
   "cell_type": "code",
   "execution_count": 38,
   "id": "9674d284",
   "metadata": {},
   "outputs": [
    {
     "name": "stderr",
     "output_type": "stream",
     "text": [
      "  0%|          | 0/87 [00:00<?, ?it/s]"
     ]
    },
    {
     "name": "stdout",
     "output_type": "stream",
     "text": [
      "self.image_path: ../20220715_final_oct_synergos/Data\n",
      "dataset: 2018_DatasetB_Study_1_edited/4831032_1822_2907_17843_R\n",
      "image paths: ['../20220715_final_oct_synergos/Data\\\\2018_DatasetB_Study_1_edited/4831032_1822_2907_17843_R\\\\NHP_0000.tif', '../20220715_final_oct_synergos/Data\\\\2018_DatasetB_Study_1_edited/4831032_1822_2907_17843_R\\\\NHP_0001.tif', '../20220715_final_oct_synergos/Data\\\\2018_DatasetB_Study_1_edited/4831032_1822_2907_17843_R\\\\NHP_0002.tif', '../20220715_final_oct_synergos/Data\\\\2018_DatasetB_Study_1_edited/4831032_1822_2907_17843_R\\\\NHP_0005.tif', '../20220715_final_oct_synergos/Data\\\\2018_DatasetB_Study_1_edited/4831032_1822_2907_17843_R\\\\NHP_0007.tif', '../20220715_final_oct_synergos/Data\\\\2018_DatasetB_Study_1_edited/4831032_1822_2907_17843_R\\\\NHP_0008.tif', '../20220715_final_oct_synergos/Data\\\\2018_DatasetB_Study_1_edited/4831032_1822_2907_17843_R\\\\NHP_0009.tif', '../20220715_final_oct_synergos/Data\\\\2018_DatasetB_Study_1_edited/4831032_1822_2907_17843_R\\\\NHP_0010.tif', '../20220715_final_oct_synergos/Data\\\\2018_DatasetB_Study_1_edited/4831032_1822_2907_17843_R\\\\NHP_0023.tif', '../20220715_final_oct_synergos/Data\\\\2018_DatasetB_Study_1_edited/4831032_1822_2907_17843_R\\\\NHP_0027.tif']\n"
     ]
    },
    {
     "name": "stderr",
     "output_type": "stream",
     "text": [
      "  1%|          | 1/87 [00:01<01:46,  1.24s/it]"
     ]
    },
    {
     "name": "stdout",
     "output_type": "stream",
     "text": [
      "self.image_path: ../20220715_final_oct_synergos/Data\n",
      "dataset: 2018_DatasetB_Study_1_edited/13117012_1923_3307_20738_R\n",
      "image paths: ['../20220715_final_oct_synergos/Data\\\\2018_DatasetB_Study_1_edited/13117012_1923_3307_20738_R\\\\NHP_0002.tif', '../20220715_final_oct_synergos/Data\\\\2018_DatasetB_Study_1_edited/13117012_1923_3307_20738_R\\\\NHP_0003.tif', '../20220715_final_oct_synergos/Data\\\\2018_DatasetB_Study_1_edited/13117012_1923_3307_20738_R\\\\NHP_0005.tif', '../20220715_final_oct_synergos/Data\\\\2018_DatasetB_Study_1_edited/13117012_1923_3307_20738_R\\\\NHP_0006.tif', '../20220715_final_oct_synergos/Data\\\\2018_DatasetB_Study_1_edited/13117012_1923_3307_20738_R\\\\NHP_0007.tif', '../20220715_final_oct_synergos/Data\\\\2018_DatasetB_Study_1_edited/13117012_1923_3307_20738_R\\\\NHP_0009.tif', '../20220715_final_oct_synergos/Data\\\\2018_DatasetB_Study_1_edited/13117012_1923_3307_20738_R\\\\NHP_0010.tif', '../20220715_final_oct_synergos/Data\\\\2018_DatasetB_Study_1_edited/13117012_1923_3307_20738_R\\\\NHP_0019.tif', '../20220715_final_oct_synergos/Data\\\\2018_DatasetB_Study_1_edited/13117012_1923_3307_20738_R\\\\NHP_0020.tif', '../20220715_final_oct_synergos/Data\\\\2018_DatasetB_Study_1_edited/13117012_1923_3307_20738_R\\\\NHP_0021.tif', '../20220715_final_oct_synergos/Data\\\\2018_DatasetB_Study_1_edited/13117012_1923_3307_20738_R\\\\NHP_0022.tif', '../20220715_final_oct_synergos/Data\\\\2018_DatasetB_Study_1_edited/13117012_1923_3307_20738_R\\\\NHP_0023.tif', '../20220715_final_oct_synergos/Data\\\\2018_DatasetB_Study_1_edited/13117012_1923_3307_20738_R\\\\NHP_0024.tif', '../20220715_final_oct_synergos/Data\\\\2018_DatasetB_Study_1_edited/13117012_1923_3307_20738_R\\\\NHP_0025.tif', '../20220715_final_oct_synergos/Data\\\\2018_DatasetB_Study_1_edited/13117012_1923_3307_20738_R\\\\NHP_0026.tif', '../20220715_final_oct_synergos/Data\\\\2018_DatasetB_Study_1_edited/13117012_1923_3307_20738_R\\\\NHP_0027.tif', '../20220715_final_oct_synergos/Data\\\\2018_DatasetB_Study_1_edited/13117012_1923_3307_20738_R\\\\NHP_0028.tif', '../20220715_final_oct_synergos/Data\\\\2018_DatasetB_Study_1_edited/13117012_1923_3307_20738_R\\\\NHP_0029.tif']\n"
     ]
    },
    {
     "name": "stderr",
     "output_type": "stream",
     "text": [
      "  2%|▏         | 2/87 [00:03<02:38,  1.86s/it]"
     ]
    },
    {
     "name": "stdout",
     "output_type": "stream",
     "text": [
      "self.image_path: ../20220715_final_oct_synergos/Data\n",
      "dataset: 2018_DatasetB_Study_1_edited/1865012_1736_2653_15980_R\n",
      "image paths: ['../20220715_final_oct_synergos/Data\\\\2018_DatasetB_Study_1_edited/1865012_1736_2653_15980_R\\\\NHP_0000.tif', '../20220715_final_oct_synergos/Data\\\\2018_DatasetB_Study_1_edited/1865012_1736_2653_15980_R\\\\NHP_0001.tif', '../20220715_final_oct_synergos/Data\\\\2018_DatasetB_Study_1_edited/1865012_1736_2653_15980_R\\\\NHP_0002.tif', '../20220715_final_oct_synergos/Data\\\\2018_DatasetB_Study_1_edited/1865012_1736_2653_15980_R\\\\NHP_0003.tif', '../20220715_final_oct_synergos/Data\\\\2018_DatasetB_Study_1_edited/1865012_1736_2653_15980_R\\\\NHP_0004.tif', '../20220715_final_oct_synergos/Data\\\\2018_DatasetB_Study_1_edited/1865012_1736_2653_15980_R\\\\NHP_0005.tif', '../20220715_final_oct_synergos/Data\\\\2018_DatasetB_Study_1_edited/1865012_1736_2653_15980_R\\\\NHP_0006.tif', '../20220715_final_oct_synergos/Data\\\\2018_DatasetB_Study_1_edited/1865012_1736_2653_15980_R\\\\NHP_0007.tif', '../20220715_final_oct_synergos/Data\\\\2018_DatasetB_Study_1_edited/1865012_1736_2653_15980_R\\\\NHP_0008.tif', '../20220715_final_oct_synergos/Data\\\\2018_DatasetB_Study_1_edited/1865012_1736_2653_15980_R\\\\NHP_0009.tif', '../20220715_final_oct_synergos/Data\\\\2018_DatasetB_Study_1_edited/1865012_1736_2653_15980_R\\\\NHP_0010.tif', '../20220715_final_oct_synergos/Data\\\\2018_DatasetB_Study_1_edited/1865012_1736_2653_15980_R\\\\NHP_0021.tif', '../20220715_final_oct_synergos/Data\\\\2018_DatasetB_Study_1_edited/1865012_1736_2653_15980_R\\\\NHP_0022.tif', '../20220715_final_oct_synergos/Data\\\\2018_DatasetB_Study_1_edited/1865012_1736_2653_15980_R\\\\NHP_0023.tif', '../20220715_final_oct_synergos/Data\\\\2018_DatasetB_Study_1_edited/1865012_1736_2653_15980_R\\\\NHP_0024.tif', '../20220715_final_oct_synergos/Data\\\\2018_DatasetB_Study_1_edited/1865012_1736_2653_15980_R\\\\NHP_0025.tif', '../20220715_final_oct_synergos/Data\\\\2018_DatasetB_Study_1_edited/1865012_1736_2653_15980_R\\\\NHP_0026.tif', '../20220715_final_oct_synergos/Data\\\\2018_DatasetB_Study_1_edited/1865012_1736_2653_15980_R\\\\NHP_0027.tif', '../20220715_final_oct_synergos/Data\\\\2018_DatasetB_Study_1_edited/1865012_1736_2653_15980_R\\\\NHP_0028.tif', '../20220715_final_oct_synergos/Data\\\\2018_DatasetB_Study_1_edited/1865012_1736_2653_15980_R\\\\NHP_0030.tif']\n"
     ]
    },
    {
     "name": "stderr",
     "output_type": "stream",
     "text": [
      "  3%|▎         | 3/87 [00:06<03:01,  2.16s/it]"
     ]
    },
    {
     "name": "stdout",
     "output_type": "stream",
     "text": [
      "self.image_path: ../20220715_final_oct_synergos/Data\n",
      "dataset: 2018_DatasetB_Study_1_edited/13117022_1923_3308_20751_R\n",
      "image paths: ['../20220715_final_oct_synergos/Data\\\\2018_DatasetB_Study_1_edited/13117022_1923_3308_20751_R\\\\NHP_0001.tif', '../20220715_final_oct_synergos/Data\\\\2018_DatasetB_Study_1_edited/13117022_1923_3308_20751_R\\\\NHP_0003.tif', '../20220715_final_oct_synergos/Data\\\\2018_DatasetB_Study_1_edited/13117022_1923_3308_20751_R\\\\NHP_0004.tif', '../20220715_final_oct_synergos/Data\\\\2018_DatasetB_Study_1_edited/13117022_1923_3308_20751_R\\\\NHP_0005.tif', '../20220715_final_oct_synergos/Data\\\\2018_DatasetB_Study_1_edited/13117022_1923_3308_20751_R\\\\NHP_0006.tif', '../20220715_final_oct_synergos/Data\\\\2018_DatasetB_Study_1_edited/13117022_1923_3308_20751_R\\\\NHP_0007.tif', '../20220715_final_oct_synergos/Data\\\\2018_DatasetB_Study_1_edited/13117022_1923_3308_20751_R\\\\NHP_0009.tif', '../20220715_final_oct_synergos/Data\\\\2018_DatasetB_Study_1_edited/13117022_1923_3308_20751_R\\\\NHP_0010.tif']\n"
     ]
    },
    {
     "name": "stderr",
     "output_type": "stream",
     "text": [
      "  5%|▍         | 4/87 [00:07<02:20,  1.69s/it]"
     ]
    },
    {
     "name": "stdout",
     "output_type": "stream",
     "text": [
      "self.image_path: ../20220715_final_oct_synergos/Data\n",
      "dataset: 2018_DatasetB_Study_1_edited/1627022_641_1070_7827_R\n",
      "image paths: ['../20220715_final_oct_synergos/Data\\\\2018_DatasetB_Study_1_edited/1627022_641_1070_7827_R\\\\NHP_0000.tif', '../20220715_final_oct_synergos/Data\\\\2018_DatasetB_Study_1_edited/1627022_641_1070_7827_R\\\\NHP_0001.tif', '../20220715_final_oct_synergos/Data\\\\2018_DatasetB_Study_1_edited/1627022_641_1070_7827_R\\\\NHP_0002.tif', '../20220715_final_oct_synergos/Data\\\\2018_DatasetB_Study_1_edited/1627022_641_1070_7827_R\\\\NHP_0003.tif', '../20220715_final_oct_synergos/Data\\\\2018_DatasetB_Study_1_edited/1627022_641_1070_7827_R\\\\NHP_0004.tif', '../20220715_final_oct_synergos/Data\\\\2018_DatasetB_Study_1_edited/1627022_641_1070_7827_R\\\\NHP_0005.tif', '../20220715_final_oct_synergos/Data\\\\2018_DatasetB_Study_1_edited/1627022_641_1070_7827_R\\\\NHP_0006.tif', '../20220715_final_oct_synergos/Data\\\\2018_DatasetB_Study_1_edited/1627022_641_1070_7827_R\\\\NHP_0007.tif', '../20220715_final_oct_synergos/Data\\\\2018_DatasetB_Study_1_edited/1627022_641_1070_7827_R\\\\NHP_0008.tif', '../20220715_final_oct_synergos/Data\\\\2018_DatasetB_Study_1_edited/1627022_641_1070_7827_R\\\\NHP_0009.tif', '../20220715_final_oct_synergos/Data\\\\2018_DatasetB_Study_1_edited/1627022_641_1070_7827_R\\\\NHP_0010.tif', '../20220715_final_oct_synergos/Data\\\\2018_DatasetB_Study_1_edited/1627022_641_1070_7827_R\\\\NHP_0011.tif', '../20220715_final_oct_synergos/Data\\\\2018_DatasetB_Study_1_edited/1627022_641_1070_7827_R\\\\NHP_0021.tif', '../20220715_final_oct_synergos/Data\\\\2018_DatasetB_Study_1_edited/1627022_641_1070_7827_R\\\\NHP_0022.tif', '../20220715_final_oct_synergos/Data\\\\2018_DatasetB_Study_1_edited/1627022_641_1070_7827_R\\\\NHP_0023.tif', '../20220715_final_oct_synergos/Data\\\\2018_DatasetB_Study_1_edited/1627022_641_1070_7827_R\\\\NHP_0024.tif', '../20220715_final_oct_synergos/Data\\\\2018_DatasetB_Study_1_edited/1627022_641_1070_7827_R\\\\NHP_0025.tif', '../20220715_final_oct_synergos/Data\\\\2018_DatasetB_Study_1_edited/1627022_641_1070_7827_R\\\\NHP_0026.tif']\n"
     ]
    },
    {
     "name": "stderr",
     "output_type": "stream",
     "text": [
      "  6%|▌         | 5/87 [00:09<02:34,  1.88s/it]"
     ]
    },
    {
     "name": "stdout",
     "output_type": "stream",
     "text": [
      "self.image_path: ../20220715_final_oct_synergos/Data\n",
      "dataset: 2018_DatasetB_Study_1_edited/1925022_1816_2884_17680_R\n",
      "image paths: ['../20220715_final_oct_synergos/Data\\\\2018_DatasetB_Study_1_edited/1925022_1816_2884_17680_R\\\\NHP_0000.tif', '../20220715_final_oct_synergos/Data\\\\2018_DatasetB_Study_1_edited/1925022_1816_2884_17680_R\\\\NHP_0001.tif', '../20220715_final_oct_synergos/Data\\\\2018_DatasetB_Study_1_edited/1925022_1816_2884_17680_R\\\\NHP_0002.tif', '../20220715_final_oct_synergos/Data\\\\2018_DatasetB_Study_1_edited/1925022_1816_2884_17680_R\\\\NHP_0004.tif', '../20220715_final_oct_synergos/Data\\\\2018_DatasetB_Study_1_edited/1925022_1816_2884_17680_R\\\\NHP_0005.tif', '../20220715_final_oct_synergos/Data\\\\2018_DatasetB_Study_1_edited/1925022_1816_2884_17680_R\\\\NHP_0006.tif', '../20220715_final_oct_synergos/Data\\\\2018_DatasetB_Study_1_edited/1925022_1816_2884_17680_R\\\\NHP_0008.tif', '../20220715_final_oct_synergos/Data\\\\2018_DatasetB_Study_1_edited/1925022_1816_2884_17680_R\\\\NHP_0009.tif', '../20220715_final_oct_synergos/Data\\\\2018_DatasetB_Study_1_edited/1925022_1816_2884_17680_R\\\\NHP_0010.tif', '../20220715_final_oct_synergos/Data\\\\2018_DatasetB_Study_1_edited/1925022_1816_2884_17680_R\\\\NHP_0011.tif', '../20220715_final_oct_synergos/Data\\\\2018_DatasetB_Study_1_edited/1925022_1816_2884_17680_R\\\\NHP_0023.tif', '../20220715_final_oct_synergos/Data\\\\2018_DatasetB_Study_1_edited/1925022_1816_2884_17680_R\\\\NHP_0024.tif', '../20220715_final_oct_synergos/Data\\\\2018_DatasetB_Study_1_edited/1925022_1816_2884_17680_R\\\\NHP_0026.tif']\n"
     ]
    },
    {
     "name": "stderr",
     "output_type": "stream",
     "text": [
      "  7%|▋         | 6/87 [00:10<02:24,  1.78s/it]"
     ]
    },
    {
     "name": "stdout",
     "output_type": "stream",
     "text": [
      "self.image_path: ../20220715_final_oct_synergos/Data\n",
      "dataset: 2018_DatasetB_Study_1_edited/1627022_1926_3323_20853_R\n",
      "image paths: ['../20220715_final_oct_synergos/Data\\\\2018_DatasetB_Study_1_edited/1627022_1926_3323_20853_R\\\\NHP_0000.tif', '../20220715_final_oct_synergos/Data\\\\2018_DatasetB_Study_1_edited/1627022_1926_3323_20853_R\\\\NHP_0001.tif', '../20220715_final_oct_synergos/Data\\\\2018_DatasetB_Study_1_edited/1627022_1926_3323_20853_R\\\\NHP_0002.tif', '../20220715_final_oct_synergos/Data\\\\2018_DatasetB_Study_1_edited/1627022_1926_3323_20853_R\\\\NHP_0003.tif', '../20220715_final_oct_synergos/Data\\\\2018_DatasetB_Study_1_edited/1627022_1926_3323_20853_R\\\\NHP_0004.tif', '../20220715_final_oct_synergos/Data\\\\2018_DatasetB_Study_1_edited/1627022_1926_3323_20853_R\\\\NHP_0005.tif', '../20220715_final_oct_synergos/Data\\\\2018_DatasetB_Study_1_edited/1627022_1926_3323_20853_R\\\\NHP_0006.tif', '../20220715_final_oct_synergos/Data\\\\2018_DatasetB_Study_1_edited/1627022_1926_3323_20853_R\\\\NHP_0007.tif', '../20220715_final_oct_synergos/Data\\\\2018_DatasetB_Study_1_edited/1627022_1926_3323_20853_R\\\\NHP_0008.tif', '../20220715_final_oct_synergos/Data\\\\2018_DatasetB_Study_1_edited/1627022_1926_3323_20853_R\\\\NHP_0009.tif', '../20220715_final_oct_synergos/Data\\\\2018_DatasetB_Study_1_edited/1627022_1926_3323_20853_R\\\\NHP_0010.tif', '../20220715_final_oct_synergos/Data\\\\2018_DatasetB_Study_1_edited/1627022_1926_3323_20853_R\\\\NHP_0011.tif', '../20220715_final_oct_synergos/Data\\\\2018_DatasetB_Study_1_edited/1627022_1926_3323_20853_R\\\\NHP_0021.tif', '../20220715_final_oct_synergos/Data\\\\2018_DatasetB_Study_1_edited/1627022_1926_3323_20853_R\\\\NHP_0022.tif', '../20220715_final_oct_synergos/Data\\\\2018_DatasetB_Study_1_edited/1627022_1926_3323_20853_R\\\\NHP_0023.tif', '../20220715_final_oct_synergos/Data\\\\2018_DatasetB_Study_1_edited/1627022_1926_3323_20853_R\\\\NHP_0024.tif', '../20220715_final_oct_synergos/Data\\\\2018_DatasetB_Study_1_edited/1627022_1926_3323_20853_R\\\\NHP_0025.tif', '../20220715_final_oct_synergos/Data\\\\2018_DatasetB_Study_1_edited/1627022_1926_3323_20853_R\\\\NHP_0026.tif']\n"
     ]
    },
    {
     "name": "stderr",
     "output_type": "stream",
     "text": [
      "  8%|▊         | 7/87 [00:12<02:32,  1.91s/it]"
     ]
    },
    {
     "name": "stdout",
     "output_type": "stream",
     "text": [
      "self.image_path: ../20220715_final_oct_synergos/Data\n",
      "dataset: 2018_DatasetB_Study_1_edited/4039032_1713_2596_15553_R\n",
      "image paths: ['../20220715_final_oct_synergos/Data\\\\2018_DatasetB_Study_1_edited/4039032_1713_2596_15553_R\\\\NHP_0000.tif', '../20220715_final_oct_synergos/Data\\\\2018_DatasetB_Study_1_edited/4039032_1713_2596_15553_R\\\\NHP_0003.tif', '../20220715_final_oct_synergos/Data\\\\2018_DatasetB_Study_1_edited/4039032_1713_2596_15553_R\\\\NHP_0004.tif', '../20220715_final_oct_synergos/Data\\\\2018_DatasetB_Study_1_edited/4039032_1713_2596_15553_R\\\\NHP_0026.tif', '../20220715_final_oct_synergos/Data\\\\2018_DatasetB_Study_1_edited/4039032_1713_2596_15553_R\\\\NHP_0027.tif', '../20220715_final_oct_synergos/Data\\\\2018_DatasetB_Study_1_edited/4039032_1713_2596_15553_R\\\\NHP_0028.tif', '../20220715_final_oct_synergos/Data\\\\2018_DatasetB_Study_1_edited/4039032_1713_2596_15553_R\\\\NHP_0029.tif']\n"
     ]
    },
    {
     "name": "stderr",
     "output_type": "stream",
     "text": [
      "  9%|▉         | 8/87 [00:13<02:03,  1.56s/it]"
     ]
    },
    {
     "name": "stdout",
     "output_type": "stream",
     "text": [
      "self.image_path: ../20220715_final_oct_synergos/Data\n",
      "dataset: 2018_DatasetB_Study_1_edited/1925022_1737_2657_16015_R\n",
      "image paths: ['../20220715_final_oct_synergos/Data\\\\2018_DatasetB_Study_1_edited/1925022_1737_2657_16015_R\\\\NHP_0001.tif', '../20220715_final_oct_synergos/Data\\\\2018_DatasetB_Study_1_edited/1925022_1737_2657_16015_R\\\\NHP_0002.tif', '../20220715_final_oct_synergos/Data\\\\2018_DatasetB_Study_1_edited/1925022_1737_2657_16015_R\\\\NHP_0004.tif', '../20220715_final_oct_synergos/Data\\\\2018_DatasetB_Study_1_edited/1925022_1737_2657_16015_R\\\\NHP_0005.tif', '../20220715_final_oct_synergos/Data\\\\2018_DatasetB_Study_1_edited/1925022_1737_2657_16015_R\\\\NHP_0006.tif', '../20220715_final_oct_synergos/Data\\\\2018_DatasetB_Study_1_edited/1925022_1737_2657_16015_R\\\\NHP_0007.tif', '../20220715_final_oct_synergos/Data\\\\2018_DatasetB_Study_1_edited/1925022_1737_2657_16015_R\\\\NHP_0008.tif', '../20220715_final_oct_synergos/Data\\\\2018_DatasetB_Study_1_edited/1925022_1737_2657_16015_R\\\\NHP_0009.tif', '../20220715_final_oct_synergos/Data\\\\2018_DatasetB_Study_1_edited/1925022_1737_2657_16015_R\\\\NHP_0010.tif', '../20220715_final_oct_synergos/Data\\\\2018_DatasetB_Study_1_edited/1925022_1737_2657_16015_R\\\\NHP_0021.tif', '../20220715_final_oct_synergos/Data\\\\2018_DatasetB_Study_1_edited/1925022_1737_2657_16015_R\\\\NHP_0023.tif', '../20220715_final_oct_synergos/Data\\\\2018_DatasetB_Study_1_edited/1925022_1737_2657_16015_R\\\\NHP_0024.tif', '../20220715_final_oct_synergos/Data\\\\2018_DatasetB_Study_1_edited/1925022_1737_2657_16015_R\\\\NHP_0025.tif', '../20220715_final_oct_synergos/Data\\\\2018_DatasetB_Study_1_edited/1925022_1737_2657_16015_R\\\\NHP_0026.tif', '../20220715_final_oct_synergos/Data\\\\2018_DatasetB_Study_1_edited/1925022_1737_2657_16015_R\\\\NHP_0027.tif', '../20220715_final_oct_synergos/Data\\\\2018_DatasetB_Study_1_edited/1925022_1737_2657_16015_R\\\\NHP_0028.tif', '../20220715_final_oct_synergos/Data\\\\2018_DatasetB_Study_1_edited/1925022_1737_2657_16015_R\\\\NHP_0029.tif', '../20220715_final_oct_synergos/Data\\\\2018_DatasetB_Study_1_edited/1925022_1737_2657_16015_R\\\\NHP_0030.tif']\n"
     ]
    },
    {
     "name": "stderr",
     "output_type": "stream",
     "text": [
      " 10%|█         | 9/87 [00:16<02:18,  1.77s/it]"
     ]
    },
    {
     "name": "stdout",
     "output_type": "stream",
     "text": [
      "self.image_path: ../20220715_final_oct_synergos/Data\n",
      "dataset: 2018_DatasetB_Study_1_edited/1161012_1894_3183_19872_R\n",
      "image paths: ['../20220715_final_oct_synergos/Data\\\\2018_DatasetB_Study_1_edited/1161012_1894_3183_19872_R\\\\NHP_0001.tif', '../20220715_final_oct_synergos/Data\\\\2018_DatasetB_Study_1_edited/1161012_1894_3183_19872_R\\\\NHP_0002.tif', '../20220715_final_oct_synergos/Data\\\\2018_DatasetB_Study_1_edited/1161012_1894_3183_19872_R\\\\NHP_0003.tif', '../20220715_final_oct_synergos/Data\\\\2018_DatasetB_Study_1_edited/1161012_1894_3183_19872_R\\\\NHP_0004.tif', '../20220715_final_oct_synergos/Data\\\\2018_DatasetB_Study_1_edited/1161012_1894_3183_19872_R\\\\NHP_0005.tif', '../20220715_final_oct_synergos/Data\\\\2018_DatasetB_Study_1_edited/1161012_1894_3183_19872_R\\\\NHP_0006.tif', '../20220715_final_oct_synergos/Data\\\\2018_DatasetB_Study_1_edited/1161012_1894_3183_19872_R\\\\NHP_0007.tif', '../20220715_final_oct_synergos/Data\\\\2018_DatasetB_Study_1_edited/1161012_1894_3183_19872_R\\\\NHP_0008.tif', '../20220715_final_oct_synergos/Data\\\\2018_DatasetB_Study_1_edited/1161012_1894_3183_19872_R\\\\NHP_0009.tif', '../20220715_final_oct_synergos/Data\\\\2018_DatasetB_Study_1_edited/1161012_1894_3183_19872_R\\\\NHP_0010.tif', '../20220715_final_oct_synergos/Data\\\\2018_DatasetB_Study_1_edited/1161012_1894_3183_19872_R\\\\NHP_0011.tif', '../20220715_final_oct_synergos/Data\\\\2018_DatasetB_Study_1_edited/1161012_1894_3183_19872_R\\\\NHP_0012.tif', '../20220715_final_oct_synergos/Data\\\\2018_DatasetB_Study_1_edited/1161012_1894_3183_19872_R\\\\NHP_0013.tif', '../20220715_final_oct_synergos/Data\\\\2018_DatasetB_Study_1_edited/1161012_1894_3183_19872_R\\\\NHP_0020.tif', '../20220715_final_oct_synergos/Data\\\\2018_DatasetB_Study_1_edited/1161012_1894_3183_19872_R\\\\NHP_0021.tif', '../20220715_final_oct_synergos/Data\\\\2018_DatasetB_Study_1_edited/1161012_1894_3183_19872_R\\\\NHP_0022.tif', '../20220715_final_oct_synergos/Data\\\\2018_DatasetB_Study_1_edited/1161012_1894_3183_19872_R\\\\NHP_0023.tif', '../20220715_final_oct_synergos/Data\\\\2018_DatasetB_Study_1_edited/1161012_1894_3183_19872_R\\\\NHP_0024.tif', '../20220715_final_oct_synergos/Data\\\\2018_DatasetB_Study_1_edited/1161012_1894_3183_19872_R\\\\NHP_0025.tif', '../20220715_final_oct_synergos/Data\\\\2018_DatasetB_Study_1_edited/1161012_1894_3183_19872_R\\\\NHP_0026.tif', '../20220715_final_oct_synergos/Data\\\\2018_DatasetB_Study_1_edited/1161012_1894_3183_19872_R\\\\NHP_0027.tif', '../20220715_final_oct_synergos/Data\\\\2018_DatasetB_Study_1_edited/1161012_1894_3183_19872_R\\\\NHP_0028.tif', '../20220715_final_oct_synergos/Data\\\\2018_DatasetB_Study_1_edited/1161012_1894_3183_19872_R\\\\NHP_0029.tif', '../20220715_final_oct_synergos/Data\\\\2018_DatasetB_Study_1_edited/1161012_1894_3183_19872_R\\\\NHP_0030.tif']\n"
     ]
    },
    {
     "name": "stderr",
     "output_type": "stream",
     "text": [
      " 11%|█▏        | 10/87 [00:19<02:46,  2.16s/it]"
     ]
    },
    {
     "name": "stdout",
     "output_type": "stream",
     "text": [
      "self.image_path: ../20220715_final_oct_synergos/Data\n",
      "dataset: 2018_DatasetB_Study_1_edited/4039022_1919_3288_20611_R\n",
      "image paths: ['../20220715_final_oct_synergos/Data\\\\2018_DatasetB_Study_1_edited/4039022_1919_3288_20611_R\\\\NHP_0001.tif', '../20220715_final_oct_synergos/Data\\\\2018_DatasetB_Study_1_edited/4039022_1919_3288_20611_R\\\\NHP_0002.tif', '../20220715_final_oct_synergos/Data\\\\2018_DatasetB_Study_1_edited/4039022_1919_3288_20611_R\\\\NHP_0004.tif', '../20220715_final_oct_synergos/Data\\\\2018_DatasetB_Study_1_edited/4039022_1919_3288_20611_R\\\\NHP_0006.tif', '../20220715_final_oct_synergos/Data\\\\2018_DatasetB_Study_1_edited/4039022_1919_3288_20611_R\\\\NHP_0007.tif', '../20220715_final_oct_synergos/Data\\\\2018_DatasetB_Study_1_edited/4039022_1919_3288_20611_R\\\\NHP_0009.tif', '../20220715_final_oct_synergos/Data\\\\2018_DatasetB_Study_1_edited/4039022_1919_3288_20611_R\\\\NHP_0011.tif', '../20220715_final_oct_synergos/Data\\\\2018_DatasetB_Study_1_edited/4039022_1919_3288_20611_R\\\\NHP_0025.tif', '../20220715_final_oct_synergos/Data\\\\2018_DatasetB_Study_1_edited/4039022_1919_3288_20611_R\\\\NHP_0026.tif', '../20220715_final_oct_synergos/Data\\\\2018_DatasetB_Study_1_edited/4039022_1919_3288_20611_R\\\\NHP_0027.tif', '../20220715_final_oct_synergos/Data\\\\2018_DatasetB_Study_1_edited/4039022_1919_3288_20611_R\\\\NHP_0028.tif']\n"
     ]
    },
    {
     "name": "stderr",
     "output_type": "stream",
     "text": [
      " 13%|█▎        | 11/87 [00:20<02:25,  1.91s/it]"
     ]
    },
    {
     "name": "stdout",
     "output_type": "stream",
     "text": [
      "self.image_path: ../20220715_final_oct_synergos/Data\n",
      "dataset: 2018_DatasetB_Study_1_edited/1865012_1909_3237_20258_R\n",
      "image paths: ['../20220715_final_oct_synergos/Data\\\\2018_DatasetB_Study_1_edited/1865012_1909_3237_20258_R\\\\NHP_0000.tif', '../20220715_final_oct_synergos/Data\\\\2018_DatasetB_Study_1_edited/1865012_1909_3237_20258_R\\\\NHP_0001.tif', '../20220715_final_oct_synergos/Data\\\\2018_DatasetB_Study_1_edited/1865012_1909_3237_20258_R\\\\NHP_0002.tif', '../20220715_final_oct_synergos/Data\\\\2018_DatasetB_Study_1_edited/1865012_1909_3237_20258_R\\\\NHP_0003.tif', '../20220715_final_oct_synergos/Data\\\\2018_DatasetB_Study_1_edited/1865012_1909_3237_20258_R\\\\NHP_0004.tif', '../20220715_final_oct_synergos/Data\\\\2018_DatasetB_Study_1_edited/1865012_1909_3237_20258_R\\\\NHP_0005.tif', '../20220715_final_oct_synergos/Data\\\\2018_DatasetB_Study_1_edited/1865012_1909_3237_20258_R\\\\NHP_0006.tif', '../20220715_final_oct_synergos/Data\\\\2018_DatasetB_Study_1_edited/1865012_1909_3237_20258_R\\\\NHP_0007.tif', '../20220715_final_oct_synergos/Data\\\\2018_DatasetB_Study_1_edited/1865012_1909_3237_20258_R\\\\NHP_0008.tif', '../20220715_final_oct_synergos/Data\\\\2018_DatasetB_Study_1_edited/1865012_1909_3237_20258_R\\\\NHP_0009.tif', '../20220715_final_oct_synergos/Data\\\\2018_DatasetB_Study_1_edited/1865012_1909_3237_20258_R\\\\NHP_0010.tif', '../20220715_final_oct_synergos/Data\\\\2018_DatasetB_Study_1_edited/1865012_1909_3237_20258_R\\\\NHP_0011.tif', '../20220715_final_oct_synergos/Data\\\\2018_DatasetB_Study_1_edited/1865012_1909_3237_20258_R\\\\NHP_0012.tif', '../20220715_final_oct_synergos/Data\\\\2018_DatasetB_Study_1_edited/1865012_1909_3237_20258_R\\\\NHP_0021.tif', '../20220715_final_oct_synergos/Data\\\\2018_DatasetB_Study_1_edited/1865012_1909_3237_20258_R\\\\NHP_0022.tif', '../20220715_final_oct_synergos/Data\\\\2018_DatasetB_Study_1_edited/1865012_1909_3237_20258_R\\\\NHP_0023.tif', '../20220715_final_oct_synergos/Data\\\\2018_DatasetB_Study_1_edited/1865012_1909_3237_20258_R\\\\NHP_0024.tif', '../20220715_final_oct_synergos/Data\\\\2018_DatasetB_Study_1_edited/1865012_1909_3237_20258_R\\\\NHP_0025.tif', '../20220715_final_oct_synergos/Data\\\\2018_DatasetB_Study_1_edited/1865012_1909_3237_20258_R\\\\NHP_0026.tif', '../20220715_final_oct_synergos/Data\\\\2018_DatasetB_Study_1_edited/1865012_1909_3237_20258_R\\\\NHP_0027.tif', '../20220715_final_oct_synergos/Data\\\\2018_DatasetB_Study_1_edited/1865012_1909_3237_20258_R\\\\NHP_0028.tif', '../20220715_final_oct_synergos/Data\\\\2018_DatasetB_Study_1_edited/1865012_1909_3237_20258_R\\\\NHP_0029.tif', '../20220715_final_oct_synergos/Data\\\\2018_DatasetB_Study_1_edited/1865012_1909_3237_20258_R\\\\NHP_0030.tif']\n"
     ]
    },
    {
     "name": "stderr",
     "output_type": "stream",
     "text": [
      " 14%|█▍        | 12/87 [00:23<02:47,  2.23s/it]"
     ]
    },
    {
     "name": "stdout",
     "output_type": "stream",
     "text": [
      "self.image_path: ../20220715_final_oct_synergos/Data\n",
      "dataset: 2018_DatasetB_Study_1_edited/1925022_1910_3243_20300_R\n",
      "image paths: ['../20220715_final_oct_synergos/Data\\\\2018_DatasetB_Study_1_edited/1925022_1910_3243_20300_R\\\\NHP_0001.tif', '../20220715_final_oct_synergos/Data\\\\2018_DatasetB_Study_1_edited/1925022_1910_3243_20300_R\\\\NHP_0002.tif', '../20220715_final_oct_synergos/Data\\\\2018_DatasetB_Study_1_edited/1925022_1910_3243_20300_R\\\\NHP_0004.tif', '../20220715_final_oct_synergos/Data\\\\2018_DatasetB_Study_1_edited/1925022_1910_3243_20300_R\\\\NHP_0005.tif', '../20220715_final_oct_synergos/Data\\\\2018_DatasetB_Study_1_edited/1925022_1910_3243_20300_R\\\\NHP_0006.tif', '../20220715_final_oct_synergos/Data\\\\2018_DatasetB_Study_1_edited/1925022_1910_3243_20300_R\\\\NHP_0007.tif', '../20220715_final_oct_synergos/Data\\\\2018_DatasetB_Study_1_edited/1925022_1910_3243_20300_R\\\\NHP_0008.tif', '../20220715_final_oct_synergos/Data\\\\2018_DatasetB_Study_1_edited/1925022_1910_3243_20300_R\\\\NHP_0009.tif', '../20220715_final_oct_synergos/Data\\\\2018_DatasetB_Study_1_edited/1925022_1910_3243_20300_R\\\\NHP_0010.tif', '../20220715_final_oct_synergos/Data\\\\2018_DatasetB_Study_1_edited/1925022_1910_3243_20300_R\\\\NHP_0021.tif', '../20220715_final_oct_synergos/Data\\\\2018_DatasetB_Study_1_edited/1925022_1910_3243_20300_R\\\\NHP_0023.tif', '../20220715_final_oct_synergos/Data\\\\2018_DatasetB_Study_1_edited/1925022_1910_3243_20300_R\\\\NHP_0024.tif', '../20220715_final_oct_synergos/Data\\\\2018_DatasetB_Study_1_edited/1925022_1910_3243_20300_R\\\\NHP_0025.tif', '../20220715_final_oct_synergos/Data\\\\2018_DatasetB_Study_1_edited/1925022_1910_3243_20300_R\\\\NHP_0026.tif', '../20220715_final_oct_synergos/Data\\\\2018_DatasetB_Study_1_edited/1925022_1910_3243_20300_R\\\\NHP_0027.tif', '../20220715_final_oct_synergos/Data\\\\2018_DatasetB_Study_1_edited/1925022_1910_3243_20300_R\\\\NHP_0028.tif', '../20220715_final_oct_synergos/Data\\\\2018_DatasetB_Study_1_edited/1925022_1910_3243_20300_R\\\\NHP_0029.tif', '../20220715_final_oct_synergos/Data\\\\2018_DatasetB_Study_1_edited/1925022_1910_3243_20300_R\\\\NHP_0030.tif']\n"
     ]
    },
    {
     "name": "stderr",
     "output_type": "stream",
     "text": [
      " 15%|█▍        | 13/87 [00:25<02:44,  2.22s/it]"
     ]
    },
    {
     "name": "stdout",
     "output_type": "stream",
     "text": [
      "self.image_path: ../20220715_final_oct_synergos/Data\n",
      "dataset: 2018_DatasetB_Study_1_edited/4039032_1919_3289_20617_R\n",
      "image paths: ['../20220715_final_oct_synergos/Data\\\\2018_DatasetB_Study_1_edited/4039032_1919_3289_20617_R\\\\NHP_0000.tif', '../20220715_final_oct_synergos/Data\\\\2018_DatasetB_Study_1_edited/4039032_1919_3289_20617_R\\\\NHP_0003.tif', '../20220715_final_oct_synergos/Data\\\\2018_DatasetB_Study_1_edited/4039032_1919_3289_20617_R\\\\NHP_0004.tif', '../20220715_final_oct_synergos/Data\\\\2018_DatasetB_Study_1_edited/4039032_1919_3289_20617_R\\\\NHP_0026.tif', '../20220715_final_oct_synergos/Data\\\\2018_DatasetB_Study_1_edited/4039032_1919_3289_20617_R\\\\NHP_0027.tif', '../20220715_final_oct_synergos/Data\\\\2018_DatasetB_Study_1_edited/4039032_1919_3289_20617_R\\\\NHP_0028.tif', '../20220715_final_oct_synergos/Data\\\\2018_DatasetB_Study_1_edited/4039032_1919_3289_20617_R\\\\NHP_0029.tif']\n"
     ]
    },
    {
     "name": "stderr",
     "output_type": "stream",
     "text": [
      " 16%|█▌        | 14/87 [00:26<02:12,  1.81s/it]"
     ]
    },
    {
     "name": "stdout",
     "output_type": "stream",
     "text": [
      "self.image_path: ../20220715_final_oct_synergos/Data\n",
      "dataset: 2018_DatasetB_Study_5_edited/251042_1892_3180_19850_R\n",
      "image paths: ['../20220715_final_oct_synergos/Data\\\\2018_DatasetB_Study_5_edited/251042_1892_3180_19850_R\\\\NHP_0000.tif', '../20220715_final_oct_synergos/Data\\\\2018_DatasetB_Study_5_edited/251042_1892_3180_19850_R\\\\NHP_0001.tif', '../20220715_final_oct_synergos/Data\\\\2018_DatasetB_Study_5_edited/251042_1892_3180_19850_R\\\\NHP_0002.tif', '../20220715_final_oct_synergos/Data\\\\2018_DatasetB_Study_5_edited/251042_1892_3180_19850_R\\\\NHP_0003.tif', '../20220715_final_oct_synergos/Data\\\\2018_DatasetB_Study_5_edited/251042_1892_3180_19850_R\\\\NHP_0004.tif', '../20220715_final_oct_synergos/Data\\\\2018_DatasetB_Study_5_edited/251042_1892_3180_19850_R\\\\NHP_0005.tif', '../20220715_final_oct_synergos/Data\\\\2018_DatasetB_Study_5_edited/251042_1892_3180_19850_R\\\\NHP_0006.tif', '../20220715_final_oct_synergos/Data\\\\2018_DatasetB_Study_5_edited/251042_1892_3180_19850_R\\\\NHP_0007.tif', '../20220715_final_oct_synergos/Data\\\\2018_DatasetB_Study_5_edited/251042_1892_3180_19850_R\\\\NHP_0008.tif', '../20220715_final_oct_synergos/Data\\\\2018_DatasetB_Study_5_edited/251042_1892_3180_19850_R\\\\NHP_0009.tif', '../20220715_final_oct_synergos/Data\\\\2018_DatasetB_Study_5_edited/251042_1892_3180_19850_R\\\\NHP_0010.tif', '../20220715_final_oct_synergos/Data\\\\2018_DatasetB_Study_5_edited/251042_1892_3180_19850_R\\\\NHP_0011.tif', '../20220715_final_oct_synergos/Data\\\\2018_DatasetB_Study_5_edited/251042_1892_3180_19850_R\\\\NHP_0019.tif', '../20220715_final_oct_synergos/Data\\\\2018_DatasetB_Study_5_edited/251042_1892_3180_19850_R\\\\NHP_0020.tif', '../20220715_final_oct_synergos/Data\\\\2018_DatasetB_Study_5_edited/251042_1892_3180_19850_R\\\\NHP_0021.tif', '../20220715_final_oct_synergos/Data\\\\2018_DatasetB_Study_5_edited/251042_1892_3180_19850_R\\\\NHP_0022.tif', '../20220715_final_oct_synergos/Data\\\\2018_DatasetB_Study_5_edited/251042_1892_3180_19850_R\\\\NHP_0023.tif', '../20220715_final_oct_synergos/Data\\\\2018_DatasetB_Study_5_edited/251042_1892_3180_19850_R\\\\NHP_0024.tif', '../20220715_final_oct_synergos/Data\\\\2018_DatasetB_Study_5_edited/251042_1892_3180_19850_R\\\\NHP_0025.tif', '../20220715_final_oct_synergos/Data\\\\2018_DatasetB_Study_5_edited/251042_1892_3180_19850_R\\\\NHP_0026.tif', '../20220715_final_oct_synergos/Data\\\\2018_DatasetB_Study_5_edited/251042_1892_3180_19850_R\\\\NHP_0027.tif', '../20220715_final_oct_synergos/Data\\\\2018_DatasetB_Study_5_edited/251042_1892_3180_19850_R\\\\NHP_0028.tif', '../20220715_final_oct_synergos/Data\\\\2018_DatasetB_Study_5_edited/251042_1892_3180_19850_R\\\\NHP_0029.tif', '../20220715_final_oct_synergos/Data\\\\2018_DatasetB_Study_5_edited/251042_1892_3180_19850_R\\\\NHP_0030.tif']\n"
     ]
    },
    {
     "name": "stderr",
     "output_type": "stream",
     "text": [
      " 17%|█▋        | 15/87 [00:29<02:36,  2.18s/it]"
     ]
    },
    {
     "name": "stdout",
     "output_type": "stream",
     "text": [
      "self.image_path: ../20220715_final_oct_synergos/Data\n",
      "dataset: 2018_DatasetB_Study_5_edited/1543042_1812_2868_17564_R\n",
      "image paths: ['../20220715_final_oct_synergos/Data\\\\2018_DatasetB_Study_5_edited/1543042_1812_2868_17564_R\\\\NHP_0000.tif', '../20220715_final_oct_synergos/Data\\\\2018_DatasetB_Study_5_edited/1543042_1812_2868_17564_R\\\\NHP_0001.tif', '../20220715_final_oct_synergos/Data\\\\2018_DatasetB_Study_5_edited/1543042_1812_2868_17564_R\\\\NHP_0002.tif', '../20220715_final_oct_synergos/Data\\\\2018_DatasetB_Study_5_edited/1543042_1812_2868_17564_R\\\\NHP_0003.tif', '../20220715_final_oct_synergos/Data\\\\2018_DatasetB_Study_5_edited/1543042_1812_2868_17564_R\\\\NHP_0004.tif', '../20220715_final_oct_synergos/Data\\\\2018_DatasetB_Study_5_edited/1543042_1812_2868_17564_R\\\\NHP_0005.tif', '../20220715_final_oct_synergos/Data\\\\2018_DatasetB_Study_5_edited/1543042_1812_2868_17564_R\\\\NHP_0006.tif', '../20220715_final_oct_synergos/Data\\\\2018_DatasetB_Study_5_edited/1543042_1812_2868_17564_R\\\\NHP_0007.tif', '../20220715_final_oct_synergos/Data\\\\2018_DatasetB_Study_5_edited/1543042_1812_2868_17564_R\\\\NHP_0008.tif', '../20220715_final_oct_synergos/Data\\\\2018_DatasetB_Study_5_edited/1543042_1812_2868_17564_R\\\\NHP_0009.tif', '../20220715_final_oct_synergos/Data\\\\2018_DatasetB_Study_5_edited/1543042_1812_2868_17564_R\\\\NHP_0010.tif', '../20220715_final_oct_synergos/Data\\\\2018_DatasetB_Study_5_edited/1543042_1812_2868_17564_R\\\\NHP_0011.tif', '../20220715_final_oct_synergos/Data\\\\2018_DatasetB_Study_5_edited/1543042_1812_2868_17564_R\\\\NHP_0012.tif', '../20220715_final_oct_synergos/Data\\\\2018_DatasetB_Study_5_edited/1543042_1812_2868_17564_R\\\\NHP_0023.tif', '../20220715_final_oct_synergos/Data\\\\2018_DatasetB_Study_5_edited/1543042_1812_2868_17564_R\\\\NHP_0024.tif', '../20220715_final_oct_synergos/Data\\\\2018_DatasetB_Study_5_edited/1543042_1812_2868_17564_R\\\\NHP_0030.tif']\n"
     ]
    },
    {
     "name": "stderr",
     "output_type": "stream",
     "text": [
      " 18%|█▊        | 16/87 [00:31<02:30,  2.12s/it]"
     ]
    },
    {
     "name": "stdout",
     "output_type": "stream",
     "text": [
      "self.image_path: ../20220715_final_oct_synergos/Data\n",
      "dataset: 2018_DatasetB_Study_5_edited/4365042_1927_3330_20902_R\n",
      "image paths: ['../20220715_final_oct_synergos/Data\\\\2018_DatasetB_Study_5_edited/4365042_1927_3330_20902_R\\\\NHP_0002.tif', '../20220715_final_oct_synergos/Data\\\\2018_DatasetB_Study_5_edited/4365042_1927_3330_20902_R\\\\NHP_0003.tif', '../20220715_final_oct_synergos/Data\\\\2018_DatasetB_Study_5_edited/4365042_1927_3330_20902_R\\\\NHP_0004.tif', '../20220715_final_oct_synergos/Data\\\\2018_DatasetB_Study_5_edited/4365042_1927_3330_20902_R\\\\NHP_0005.tif', '../20220715_final_oct_synergos/Data\\\\2018_DatasetB_Study_5_edited/4365042_1927_3330_20902_R\\\\NHP_0006.tif', '../20220715_final_oct_synergos/Data\\\\2018_DatasetB_Study_5_edited/4365042_1927_3330_20902_R\\\\NHP_0007.tif', '../20220715_final_oct_synergos/Data\\\\2018_DatasetB_Study_5_edited/4365042_1927_3330_20902_R\\\\NHP_0008.tif', '../20220715_final_oct_synergos/Data\\\\2018_DatasetB_Study_5_edited/4365042_1927_3330_20902_R\\\\NHP_0009.tif', '../20220715_final_oct_synergos/Data\\\\2018_DatasetB_Study_5_edited/4365042_1927_3330_20902_R\\\\NHP_0010.tif', '../20220715_final_oct_synergos/Data\\\\2018_DatasetB_Study_5_edited/4365042_1927_3330_20902_R\\\\NHP_0011.tif', '../20220715_final_oct_synergos/Data\\\\2018_DatasetB_Study_5_edited/4365042_1927_3330_20902_R\\\\NHP_0021.tif', '../20220715_final_oct_synergos/Data\\\\2018_DatasetB_Study_5_edited/4365042_1927_3330_20902_R\\\\NHP_0022.tif', '../20220715_final_oct_synergos/Data\\\\2018_DatasetB_Study_5_edited/4365042_1927_3330_20902_R\\\\NHP_0024.tif', '../20220715_final_oct_synergos/Data\\\\2018_DatasetB_Study_5_edited/4365042_1927_3330_20902_R\\\\NHP_0025.tif', '../20220715_final_oct_synergos/Data\\\\2018_DatasetB_Study_5_edited/4365042_1927_3330_20902_R\\\\NHP_0026.tif', '../20220715_final_oct_synergos/Data\\\\2018_DatasetB_Study_5_edited/4365042_1927_3330_20902_R\\\\NHP_0027.tif', '../20220715_final_oct_synergos/Data\\\\2018_DatasetB_Study_5_edited/4365042_1927_3330_20902_R\\\\NHP_0028.tif', '../20220715_final_oct_synergos/Data\\\\2018_DatasetB_Study_5_edited/4365042_1927_3330_20902_R\\\\NHP_0029.tif', '../20220715_final_oct_synergos/Data\\\\2018_DatasetB_Study_5_edited/4365042_1927_3330_20902_R\\\\NHP_0030.tif']\n"
     ]
    },
    {
     "name": "stderr",
     "output_type": "stream",
     "text": [
      " 20%|█▉        | 17/87 [00:33<02:33,  2.19s/it]"
     ]
    },
    {
     "name": "stdout",
     "output_type": "stream",
     "text": [
      "self.image_path: ../20220715_final_oct_synergos/Data\n",
      "dataset: 2018_DatasetB_Study_5_edited/1691042_1918_3285_20586_R\n",
      "image paths: ['../20220715_final_oct_synergos/Data\\\\2018_DatasetB_Study_5_edited/1691042_1918_3285_20586_R\\\\NHP_0001.tif', '../20220715_final_oct_synergos/Data\\\\2018_DatasetB_Study_5_edited/1691042_1918_3285_20586_R\\\\NHP_0002.tif', '../20220715_final_oct_synergos/Data\\\\2018_DatasetB_Study_5_edited/1691042_1918_3285_20586_R\\\\NHP_0004.tif', '../20220715_final_oct_synergos/Data\\\\2018_DatasetB_Study_5_edited/1691042_1918_3285_20586_R\\\\NHP_0030.tif']\n"
     ]
    },
    {
     "name": "stderr",
     "output_type": "stream",
     "text": [
      " 21%|██        | 18/87 [00:34<01:56,  1.69s/it]"
     ]
    },
    {
     "name": "stdout",
     "output_type": "stream",
     "text": [
      "self.image_path: ../20220715_final_oct_synergos/Data\n",
      "dataset: 2018_DatasetB_Study_5_edited/1543042_1925_3320_20831_R\n",
      "image paths: ['../20220715_final_oct_synergos/Data\\\\2018_DatasetB_Study_5_edited/1543042_1925_3320_20831_R\\\\NHP_0000.tif', '../20220715_final_oct_synergos/Data\\\\2018_DatasetB_Study_5_edited/1543042_1925_3320_20831_R\\\\NHP_0001.tif', '../20220715_final_oct_synergos/Data\\\\2018_DatasetB_Study_5_edited/1543042_1925_3320_20831_R\\\\NHP_0002.tif', '../20220715_final_oct_synergos/Data\\\\2018_DatasetB_Study_5_edited/1543042_1925_3320_20831_R\\\\NHP_0003.tif', '../20220715_final_oct_synergos/Data\\\\2018_DatasetB_Study_5_edited/1543042_1925_3320_20831_R\\\\NHP_0004.tif', '../20220715_final_oct_synergos/Data\\\\2018_DatasetB_Study_5_edited/1543042_1925_3320_20831_R\\\\NHP_0005.tif', '../20220715_final_oct_synergos/Data\\\\2018_DatasetB_Study_5_edited/1543042_1925_3320_20831_R\\\\NHP_0006.tif', '../20220715_final_oct_synergos/Data\\\\2018_DatasetB_Study_5_edited/1543042_1925_3320_20831_R\\\\NHP_0007.tif', '../20220715_final_oct_synergos/Data\\\\2018_DatasetB_Study_5_edited/1543042_1925_3320_20831_R\\\\NHP_0008.tif', '../20220715_final_oct_synergos/Data\\\\2018_DatasetB_Study_5_edited/1543042_1925_3320_20831_R\\\\NHP_0009.tif', '../20220715_final_oct_synergos/Data\\\\2018_DatasetB_Study_5_edited/1543042_1925_3320_20831_R\\\\NHP_0010.tif', '../20220715_final_oct_synergos/Data\\\\2018_DatasetB_Study_5_edited/1543042_1925_3320_20831_R\\\\NHP_0011.tif', '../20220715_final_oct_synergos/Data\\\\2018_DatasetB_Study_5_edited/1543042_1925_3320_20831_R\\\\NHP_0012.tif', '../20220715_final_oct_synergos/Data\\\\2018_DatasetB_Study_5_edited/1543042_1925_3320_20831_R\\\\NHP_0023.tif', '../20220715_final_oct_synergos/Data\\\\2018_DatasetB_Study_5_edited/1543042_1925_3320_20831_R\\\\NHP_0024.tif', '../20220715_final_oct_synergos/Data\\\\2018_DatasetB_Study_5_edited/1543042_1925_3320_20831_R\\\\NHP_0030.tif']\n"
     ]
    },
    {
     "name": "stderr",
     "output_type": "stream",
     "text": [
      " 22%|██▏       | 19/87 [00:36<02:00,  1.77s/it]"
     ]
    },
    {
     "name": "stdout",
     "output_type": "stream",
     "text": [
      "self.image_path: ../20220715_final_oct_synergos/Data\n",
      "dataset: 2018_DatasetB_Study_5_edited/251042_636_1052_7699_R\n",
      "image paths: ['../20220715_final_oct_synergos/Data\\\\2018_DatasetB_Study_5_edited/251042_636_1052_7699_R\\\\NHP_0000.tif', '../20220715_final_oct_synergos/Data\\\\2018_DatasetB_Study_5_edited/251042_636_1052_7699_R\\\\NHP_0001.tif', '../20220715_final_oct_synergos/Data\\\\2018_DatasetB_Study_5_edited/251042_636_1052_7699_R\\\\NHP_0002.tif', '../20220715_final_oct_synergos/Data\\\\2018_DatasetB_Study_5_edited/251042_636_1052_7699_R\\\\NHP_0003.tif', '../20220715_final_oct_synergos/Data\\\\2018_DatasetB_Study_5_edited/251042_636_1052_7699_R\\\\NHP_0004.tif', '../20220715_final_oct_synergos/Data\\\\2018_DatasetB_Study_5_edited/251042_636_1052_7699_R\\\\NHP_0005.tif', '../20220715_final_oct_synergos/Data\\\\2018_DatasetB_Study_5_edited/251042_636_1052_7699_R\\\\NHP_0006.tif', '../20220715_final_oct_synergos/Data\\\\2018_DatasetB_Study_5_edited/251042_636_1052_7699_R\\\\NHP_0007.tif', '../20220715_final_oct_synergos/Data\\\\2018_DatasetB_Study_5_edited/251042_636_1052_7699_R\\\\NHP_0008.tif', '../20220715_final_oct_synergos/Data\\\\2018_DatasetB_Study_5_edited/251042_636_1052_7699_R\\\\NHP_0009.tif', '../20220715_final_oct_synergos/Data\\\\2018_DatasetB_Study_5_edited/251042_636_1052_7699_R\\\\NHP_0010.tif', '../20220715_final_oct_synergos/Data\\\\2018_DatasetB_Study_5_edited/251042_636_1052_7699_R\\\\NHP_0011.tif', '../20220715_final_oct_synergos/Data\\\\2018_DatasetB_Study_5_edited/251042_636_1052_7699_R\\\\NHP_0019.tif', '../20220715_final_oct_synergos/Data\\\\2018_DatasetB_Study_5_edited/251042_636_1052_7699_R\\\\NHP_0020.tif', '../20220715_final_oct_synergos/Data\\\\2018_DatasetB_Study_5_edited/251042_636_1052_7699_R\\\\NHP_0021.tif', '../20220715_final_oct_synergos/Data\\\\2018_DatasetB_Study_5_edited/251042_636_1052_7699_R\\\\NHP_0022.tif', '../20220715_final_oct_synergos/Data\\\\2018_DatasetB_Study_5_edited/251042_636_1052_7699_R\\\\NHP_0023.tif', '../20220715_final_oct_synergos/Data\\\\2018_DatasetB_Study_5_edited/251042_636_1052_7699_R\\\\NHP_0024.tif', '../20220715_final_oct_synergos/Data\\\\2018_DatasetB_Study_5_edited/251042_636_1052_7699_R\\\\NHP_0025.tif', '../20220715_final_oct_synergos/Data\\\\2018_DatasetB_Study_5_edited/251042_636_1052_7699_R\\\\NHP_0026.tif', '../20220715_final_oct_synergos/Data\\\\2018_DatasetB_Study_5_edited/251042_636_1052_7699_R\\\\NHP_0027.tif', '../20220715_final_oct_synergos/Data\\\\2018_DatasetB_Study_5_edited/251042_636_1052_7699_R\\\\NHP_0028.tif', '../20220715_final_oct_synergos/Data\\\\2018_DatasetB_Study_5_edited/251042_636_1052_7699_R\\\\NHP_0029.tif', '../20220715_final_oct_synergos/Data\\\\2018_DatasetB_Study_5_edited/251042_636_1052_7699_R\\\\NHP_0030.tif']\n"
     ]
    },
    {
     "name": "stderr",
     "output_type": "stream",
     "text": [
      " 23%|██▎       | 20/87 [00:39<02:22,  2.13s/it]"
     ]
    },
    {
     "name": "stdout",
     "output_type": "stream",
     "text": [
      "self.image_path: ../20220715_final_oct_synergos/Data\n",
      "dataset: 2018_DatasetB_Study_5_edited/4831052_1896_3197_19963_R\n",
      "image paths: ['../20220715_final_oct_synergos/Data\\\\2018_DatasetB_Study_5_edited/4831052_1896_3197_19963_R\\\\NHP_0000.tif', '../20220715_final_oct_synergos/Data\\\\2018_DatasetB_Study_5_edited/4831052_1896_3197_19963_R\\\\NHP_0001.tif', '../20220715_final_oct_synergos/Data\\\\2018_DatasetB_Study_5_edited/4831052_1896_3197_19963_R\\\\NHP_0002.tif', '../20220715_final_oct_synergos/Data\\\\2018_DatasetB_Study_5_edited/4831052_1896_3197_19963_R\\\\NHP_0003.tif', '../20220715_final_oct_synergos/Data\\\\2018_DatasetB_Study_5_edited/4831052_1896_3197_19963_R\\\\NHP_0004.tif', '../20220715_final_oct_synergos/Data\\\\2018_DatasetB_Study_5_edited/4831052_1896_3197_19963_R\\\\NHP_0005.tif', '../20220715_final_oct_synergos/Data\\\\2018_DatasetB_Study_5_edited/4831052_1896_3197_19963_R\\\\NHP_0006.tif', '../20220715_final_oct_synergos/Data\\\\2018_DatasetB_Study_5_edited/4831052_1896_3197_19963_R\\\\NHP_0007.tif', '../20220715_final_oct_synergos/Data\\\\2018_DatasetB_Study_5_edited/4831052_1896_3197_19963_R\\\\NHP_0009.tif', '../20220715_final_oct_synergos/Data\\\\2018_DatasetB_Study_5_edited/4831052_1896_3197_19963_R\\\\NHP_0011.tif', '../20220715_final_oct_synergos/Data\\\\2018_DatasetB_Study_5_edited/4831052_1896_3197_19963_R\\\\NHP_0022.tif', '../20220715_final_oct_synergos/Data\\\\2018_DatasetB_Study_5_edited/4831052_1896_3197_19963_R\\\\NHP_0023.tif', '../20220715_final_oct_synergos/Data\\\\2018_DatasetB_Study_5_edited/4831052_1896_3197_19963_R\\\\NHP_0024.tif', '../20220715_final_oct_synergos/Data\\\\2018_DatasetB_Study_5_edited/4831052_1896_3197_19963_R\\\\NHP_0029.tif']\n"
     ]
    },
    {
     "name": "stderr",
     "output_type": "stream",
     "text": [
      " 24%|██▍       | 21/87 [00:41<02:13,  2.02s/it]"
     ]
    },
    {
     "name": "stdout",
     "output_type": "stream",
     "text": [
      "self.image_path: ../20220715_final_oct_synergos/Data\n",
      "dataset: 2018_DatasetB_Study_5_edited/1627052_1926_3326_20871_R\n",
      "image paths: ['../20220715_final_oct_synergos/Data\\\\2018_DatasetB_Study_5_edited/1627052_1926_3326_20871_R\\\\NHP_0000.tif', '../20220715_final_oct_synergos/Data\\\\2018_DatasetB_Study_5_edited/1627052_1926_3326_20871_R\\\\NHP_0002.tif', '../20220715_final_oct_synergos/Data\\\\2018_DatasetB_Study_5_edited/1627052_1926_3326_20871_R\\\\NHP_0023.tif', '../20220715_final_oct_synergos/Data\\\\2018_DatasetB_Study_5_edited/1627052_1926_3326_20871_R\\\\NHP_0024.tif', '../20220715_final_oct_synergos/Data\\\\2018_DatasetB_Study_5_edited/1627052_1926_3326_20871_R\\\\NHP_0026.tif', '../20220715_final_oct_synergos/Data\\\\2018_DatasetB_Study_5_edited/1627052_1926_3326_20871_R\\\\NHP_0027.tif']\n"
     ]
    },
    {
     "name": "stderr",
     "output_type": "stream",
     "text": [
      " 25%|██▌       | 22/87 [00:41<01:47,  1.65s/it]"
     ]
    },
    {
     "name": "stdout",
     "output_type": "stream",
     "text": [
      "self.image_path: ../20220715_final_oct_synergos/Data\n",
      "dataset: 2018_DatasetB_Study_5_edited/1691042_642_1076_7867_R\n",
      "image paths: ['../20220715_final_oct_synergos/Data\\\\2018_DatasetB_Study_5_edited/1691042_642_1076_7867_R\\\\NHP_0001.tif', '../20220715_final_oct_synergos/Data\\\\2018_DatasetB_Study_5_edited/1691042_642_1076_7867_R\\\\NHP_0002.tif', '../20220715_final_oct_synergos/Data\\\\2018_DatasetB_Study_5_edited/1691042_642_1076_7867_R\\\\NHP_0004.tif', '../20220715_final_oct_synergos/Data\\\\2018_DatasetB_Study_5_edited/1691042_642_1076_7867_R\\\\NHP_0030.tif']\n"
     ]
    },
    {
     "name": "stderr",
     "output_type": "stream",
     "text": [
      " 26%|██▋       | 23/87 [00:42<01:23,  1.31s/it]"
     ]
    },
    {
     "name": "stdout",
     "output_type": "stream",
     "text": [
      "self.image_path: ../20220715_final_oct_synergos/Data\n",
      "dataset: 2018_DatasetB_Study_5_edited/13117042_658_1140_8322_R\n",
      "image paths: ['../20220715_final_oct_synergos/Data\\\\2018_DatasetB_Study_5_edited/13117042_658_1140_8322_R\\\\NHP_0000.tif', '../20220715_final_oct_synergos/Data\\\\2018_DatasetB_Study_5_edited/13117042_658_1140_8322_R\\\\NHP_0001.tif', '../20220715_final_oct_synergos/Data\\\\2018_DatasetB_Study_5_edited/13117042_658_1140_8322_R\\\\NHP_0002.tif', '../20220715_final_oct_synergos/Data\\\\2018_DatasetB_Study_5_edited/13117042_658_1140_8322_R\\\\NHP_0003.tif', '../20220715_final_oct_synergos/Data\\\\2018_DatasetB_Study_5_edited/13117042_658_1140_8322_R\\\\NHP_0004.tif', '../20220715_final_oct_synergos/Data\\\\2018_DatasetB_Study_5_edited/13117042_658_1140_8322_R\\\\NHP_0005.tif', '../20220715_final_oct_synergos/Data\\\\2018_DatasetB_Study_5_edited/13117042_658_1140_8322_R\\\\NHP_0006.tif', '../20220715_final_oct_synergos/Data\\\\2018_DatasetB_Study_5_edited/13117042_658_1140_8322_R\\\\NHP_0007.tif', '../20220715_final_oct_synergos/Data\\\\2018_DatasetB_Study_5_edited/13117042_658_1140_8322_R\\\\NHP_0021.tif', '../20220715_final_oct_synergos/Data\\\\2018_DatasetB_Study_5_edited/13117042_658_1140_8322_R\\\\NHP_0022.tif', '../20220715_final_oct_synergos/Data\\\\2018_DatasetB_Study_5_edited/13117042_658_1140_8322_R\\\\NHP_0023.tif', '../20220715_final_oct_synergos/Data\\\\2018_DatasetB_Study_5_edited/13117042_658_1140_8322_R\\\\NHP_0026.tif', '../20220715_final_oct_synergos/Data\\\\2018_DatasetB_Study_5_edited/13117042_658_1140_8322_R\\\\NHP_0027.tif', '../20220715_final_oct_synergos/Data\\\\2018_DatasetB_Study_5_edited/13117042_658_1140_8322_R\\\\NHP_0028.tif', '../20220715_final_oct_synergos/Data\\\\2018_DatasetB_Study_5_edited/13117042_658_1140_8322_R\\\\NHP_0029.tif', '../20220715_final_oct_synergos/Data\\\\2018_DatasetB_Study_5_edited/13117042_658_1140_8322_R\\\\NHP_0030.tif']\n"
     ]
    }
   ],
   "source": [
    "\n",
    "process_data.prepare_dataset(partition_idx=1)\n",
    "# print(f\"Datasets: {process_data.datasets}\")     \n",
    "process_data.make_dataset(\"training\", True)\n",
    "\n",
    "if config['general']['mode'] != \"all\":\n",
    "    process_data.make_dataset(\"val\", True)\n",
    "    process_data.make_dataset(\"test\", True)\n",
    "\n",
    "process_data.prepare_dataset(partition_idx=2)\n",
    "process_data.make_dataset(\"training\", True)\n",
    "\n",
    "if config['general']['mode'] != \"all\":\n",
    "    process_data.make_dataset(\"val\", True)\n",
    "    process_data.make_dataset(\"test\", True)\n",
    "\n",
    "\n",
    "process_data.prepare_dataset(partition_idx=3)\n",
    "process_data.make_dataset(\"training\", True)\n",
    "\n",
    "if config['general']['mode'] != \"all\":\n",
    "    process_data.make_dataset(\"val\", True)\n",
    "    process_data.make_dataset(\"test\", True)\n",
    "    \n",
    "    \n"
   ]
  },
  {
   "cell_type": "code",
   "execution_count": null,
   "id": "5ac054c1-4ddd-4b39-8c06-84144df3ca3c",
   "metadata": {},
   "outputs": [
    {
     "name": "stderr",
     "output_type": "stream",
     "text": [
      "100%|█████████████████████████████████████████| 265/265 [22:43<00:00,  5.15s/it]\n",
      "100%|███████████████████████████████████████████| 89/89 [03:27<00:00,  2.34s/it]\n"
     ]
    }
   ],
   "source": [
    "process_data.prepare_dataset_all()\n",
    "process_data.make_dataset(\"training\", True)\n",
    "\n",
    "if config['general']['mode'] != \"all\":\n",
    "    process_data.make_dataset(\"val\", True)\n",
    "    process_data.make_dataset(\"test\", True)"
   ]
  },
  {
   "cell_type": "code",
   "execution_count": null,
   "id": "d1bd649c-51dc-4241-bb87-d473c2bc20af",
   "metadata": {},
   "outputs": [],
   "source": []
  }
 ],
 "metadata": {
  "kernelspec": {
   "display_name": "Python 3.9.15 ('msd')",
   "language": "python",
   "name": "python3"
  },
  "language_info": {
   "codemirror_mode": {
    "name": "ipython",
    "version": 3
   },
   "file_extension": ".py",
   "mimetype": "text/x-python",
   "name": "python",
   "nbconvert_exporter": "python",
   "pygments_lexer": "ipython3",
   "version": "3.9.15"
  },
  "vscode": {
   "interpreter": {
    "hash": "612547dc36acad806ee29ca81683fd64a05652320fc9f87285adf577a13144a5"
   }
  }
 },
 "nbformat": 4,
 "nbformat_minor": 5
}
