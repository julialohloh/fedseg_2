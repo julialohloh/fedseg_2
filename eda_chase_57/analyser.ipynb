{
 "cells": [
  {
   "cell_type": "code",
   "execution_count": 1,
   "metadata": {},
   "outputs": [],
   "source": [
    "import utils, img_check\n",
    "import os\n",
    "\n",
    "def calculate_pixels(image_path):\n",
    "    min_height, max_height = img_check.minmax_height(image_path)\n",
    "    min_width, max_width = img_check.minmax_width(image_path)\n",
    "    total_pixels = (min_height * min_width * 3)\n",
    "    return total_pixels\n",
    "\n",
    "def get_stats_one_partition(folders_path):\n",
    "    file_paths = utils.get_files_path(folders_path)\n",
    "    no_of_files = len(file_paths)\n",
    "    mode = img_check.imagemode(file_paths)\n",
    "    min_height, max_height = img_check.minmax_height(file_paths)\n",
    "    min_width, max_width = img_check.minmax_width(file_paths)\n",
    "    average_mean = img_check.avg_mean(file_paths)\n",
    "    \n",
    "\n",
    "def get_stats_mask_partition(folders_path):\n",
    "    file_paths = utils.get_files_path(folders_path)\n",
    "    no_of_files = len(file_paths)\n",
    "    mode = img_check.imagemode(file_paths)\n",
    "    min_height, max_height = img_check.minmax_height(file_paths)\n",
    "    min_width, max_width = img_check.minmax_width(file_paths)\n",
    "    average_mean = img_check.avg_mean(file_paths)\n",
    "    wb_ratio = img_check.whiteblack_ratio(file_paths)\n",
    "\n"
   ]
  },
  {
   "cell_type": "code",
   "execution_count": 2,
   "metadata": {},
   "outputs": [],
   "source": [
    "def wb_dataframe(folders_path):\n",
    "    file_paths = utils.get_files_path(folders_path)\n",
    "    wb_dataframe = img_check.wb_ratio_df(file_paths)\n",
    "    return wb_dataframe\n",
    "\n",
    "\n",
    "def all_rgb_deviate_pct(image_path, mask_path):\n",
    "    image_mask_dict = utils.create_image_mask_dict(image_path, mask_path)\n",
    "    total_pixels = calculate_pixels(image_path)\n",
    "    all_rgb_dfs = img_check.get_all_rgb_dfs(image_mask_dict)\n",
    "    avg_rgb_df = img_check.get_avg_rgb_df(image_path, mask_path)\n",
    "    all_rgb_deviate_pct = img_check.rgb_deviate_pct(all_rgb_dfs, avg_rgb_df, total_pixels)\n",
    "    return all_rgb_deviate_pct, total_pixels\n"
   ]
  },
  {
   "cell_type": "markdown",
   "metadata": {},
   "source": [
    "## Pixel Level stats exploration"
   ]
  },
  {
   "cell_type": "code",
   "execution_count": 3,
   "metadata": {},
   "outputs": [],
   "source": [
    "def get_pixel_stats(folders_path):\n",
    "    image_partition_paths = utils.get_files_path(folders_path)\n",
    "    partition_list_arr = img_check.get_pixels_array(image_partition_paths)\n",
    "    partition_mean_arr = img_check.get_pixels_mean(partition_list_arr)\n",
    "    partition_std_arr = img_check.get_pixels_std(partition_list_arr)\n",
    "    partition_average_image = img_check.get_average_image(partition_mean_arr)\n",
    "    partition_abs_total_deviation, partition_sum_deviations = img_check.get_deviation(image_partition_paths,  partition_mean_arr, channel = 3)\n",
    "    partition_min_index, partition_max_index, partition_mean_deviation = img_check.min_max_deviation(partition_sum_deviations, image_partition_paths)\n",
    "    total_pixels = calculate_pixels(image_partition_paths)\n",
    "    plot_avg_pixel_deviation = img_check.plot_image(partition_sum_deviations, total_pixels)\n",
    "    "
   ]
  },
  {
   "cell_type": "markdown",
   "metadata": {},
   "source": [
    "# Grapher"
   ]
  },
  {
   "cell_type": "code",
   "execution_count": 5,
   "metadata": {},
   "outputs": [],
   "source": [
    "import matplotlib.pyplot as plt\n",
    "import seaborn as sns\n",
    "import numpy as np\n",
    "def plot_wb_ratio(wb_dataframe):\n",
    "    fig, ax =plt.subplots(1,2, figsize=(10,5))\n",
    "    sns.barplot(x=\"Index\", y=\"Ratio\", data=wb_dataframe, ax=ax[0]).set(title='{prefix}')\n",
    "    plt.show()\n",
    "\n",
    "def get_rgb_dataframe(image_path, mask_path):\n",
    "    rgb_df = img_check.get_rgb_df(image_path, mask_path)\n",
    "    fig, ax =plt.subplots(1,2, figsize=(25,25))\n",
    "    sns.lineplot(data=rgb_df, ax=ax[0]).set(title='{prefix}')\n",
    "    plt.show()\n",
    "\n",
    "def get_avg_rgb_dataframe(image_path, mask_path):\n",
    "    rgb_avg_df = img_check.get_avg_rgb_df(image_path, mask_path)\n",
    "    fig, ax =plt.subplots(1,2, figsize=(25,25))\n",
    "    sns.lineplot(data=rgb_avg_df, ax=ax[0]).set(title='{prefix}')\n",
    "    plt.show()\n",
    "\n",
    "def get_deviation_dataframe(image_path, mask_path):\n",
    "    rgb_df = img_check.get_rgb_df(image_path, mask_path)\n",
    "    rgb_avg_df = img_check.get_avg_rgb_df(image_path, mask_path)\n",
    "    rgb_deviation = rgb_df.subtract(rgb_avg_df).abs()\n",
    "    fig, ax =plt.subplots(1,2, figsize=(25,25))\n",
    "    sns.lineplot(data=rgb_deviation, ax=ax[0]).set(title='{prefix}')\n",
    "\n",
    "def plot_all_rgb_deviate_pct(image_path, mask_path):\n",
    "    all_rgb_deviate_pct, total_pixels = all_rgb_deviate_pct(image_path, mask_path)\n",
    "    fig, ax= plt.subplots(1,1, figsize=(10,5))\n",
    "    sns.lineplot(data=all_rgb_deviate_pct)\n",
    "    plt.show()  \n",
    "\n",
    "def plot_histogram(pixel_mean, pixel_std, pixel_distribution, abs_total_deviation, index):\n",
    "    pixel_mean_hist,bin = np.histogram(pixel_mean.ravel(),256,[0,255])\n",
    "    pixel_std_hist,bin = np.histogram(pixel_std.ravel(),256,[0,255])\n",
    "    actual_image,bin = np.histogram(pixel_distribution[index,:,:].ravel(),256,[0,255])\n",
    "    deviation_image, bin = np.histogram(abs_total_deviation[index,:,:].ravel(),256,[0,255])\n",
    "    plt.figure(figsize=(15,10))\n",
    "    plt.xlim([0,255])\n",
    "    plt.plot(pixel_mean_hist, color = 'red')\n",
    "    plt.plot(pixel_std_hist, color = 'blue')\n",
    "    plt.plot(actual_image, color = 'black')\n",
    "    plt.plot(deviation_image, color = 'green')\n",
    "    plt.title('histogram of pixel_mean')\n",
    "    plt.xlabel(\"Pixel intensity value\")\n",
    "    plt.ylabel(\"Frequency, # of pixels\")\n",
    "    plt.legend(['Pixel_mean', 'Pixel_std', \n",
    "    'actual_image', 'deviation_image'])\n",
    "    plt.show()"
   ]
  },
  {
   "cell_type": "markdown",
   "metadata": {},
   "source": [
    "# Compare partitions"
   ]
  },
  {
   "cell_type": "code",
   "execution_count": null,
   "metadata": {},
   "outputs": [],
   "source": [
    "def plot_mean_deviation_across_partitions():\n",
    "    mean_list = {'type': ['left', 'right', 'all', 'partition_1', 'partition_2',     'partition_3'], 'mean_deviation': [left_mean_deviation, right_mean_deviation, all_mean_deviation, partition_1_deviation, partition_2_deviation, partition_3_deviation]}\n",
    "    mean_df = pd.DataFrame.from_dict(data=mean_list)\n",
    "\n",
    "    mean_df\n",
    "    fig, ax= plt.subplots(1,1, figsize=(10,5))\n",
    "    sns.barplot(data=mean_df, x = 'type', y = 'mean_deviation')\n",
    "    plt.show()"
   ]
  }
 ],
 "metadata": {
  "kernelspec": {
   "display_name": "Python 3.9.12 ('env')",
   "language": "python",
   "name": "python3"
  },
  "language_info": {
   "codemirror_mode": {
    "name": "ipython",
    "version": 3
   },
   "file_extension": ".py",
   "mimetype": "text/x-python",
   "name": "python",
   "nbconvert_exporter": "python",
   "pygments_lexer": "ipython3",
   "version": "3.9.12"
  },
  "orig_nbformat": 4,
  "vscode": {
   "interpreter": {
    "hash": "17fe00490cc2e9db9aee342753cc9fab44bd340278fc543adf814f583e433ba5"
   }
  }
 },
 "nbformat": 4,
 "nbformat_minor": 2
}
