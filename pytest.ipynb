{
 "cells": [
  {
   "cell_type": "code",
   "execution_count": 5,
   "metadata": {},
   "outputs": [],
   "source": [
    "import re\n",
    "import torch\n",
    "from torch import nn\n",
    "from torch.nn import functional as F\n",
    "from torch.nn.utils.rnn import pack_padded_sequence\n",
    "from typing import Any, cast\n",
    "\n",
    "class PackPaddedLSTM(nn.Module):\n",
    "    \"\"\"LSTM model with pack_padded layers.\"\"\"\n",
    "\n",
    "    def __init__(\n",
    "        self,\n",
    "        vocab_size: int = 60,\n",
    "        embedding_size: int = 128,\n",
    "        output_size: int = 18,\n",
    "        hidden_size: int = 32,\n",
    "    ):\n",
    "        super().__init__()\n",
    "        self.hidden_size = hidden_size\n",
    "        self.embedding = nn.Embedding(vocab_size, embedding_size)\n",
    "        self.lstm = nn.LSTM(embedding_size, self.hidden_size, num_layers=1)  # type: ignore[no-untyped-call] # noqa: E501\n",
    "        self.hidden2out = nn.Linear(self.hidden_size, output_size)\n",
    "        self.dropout_layer = nn.Dropout(p=0.2)\n",
    "\n",
    "    def forward(self, batch: torch.Tensor, lengths: torch.Tensor) -> torch.Tensor:\n",
    "        hidden1 = torch.ones(1, batch.size(-1), self.hidden_size, device=batch.device)\n",
    "        hidden2 = torch.ones(1, batch.size(-1), self.hidden_size, device=batch.device)\n",
    "        embeds = self.embedding(batch)\n",
    "        packed_input = pack_padded_sequence(embeds, lengths)\n",
    "        _, (ht, _) = self.lstm(packed_input, (hidden1, hidden2))\n",
    "        output = self.dropout_layer(ht[-1])\n",
    "        output = self.hidden2out(output)\n",
    "        output = F.log_softmax(output, dim=1)\n",
    "        return cast(torch.Tensor, output)"
   ]
  },
  {
   "cell_type": "code",
   "execution_count": 12,
   "metadata": {},
   "outputs": [
    {
     "data": {
      "text/plain": [
       "=================================================================\n",
       "Layer (type:depth-idx)                   Param #\n",
       "=================================================================\n",
       "PackPaddedLSTM                           --\n",
       "├─Embedding: 1-1                         7,680\n",
       "├─LSTM: 1-2                              20,736\n",
       "├─Linear: 1-3                            594\n",
       "├─Dropout: 1-4                           --\n",
       "=================================================================\n",
       "Total params: 29,010\n",
       "Trainable params: 29,010\n",
       "Non-trainable params: 0\n",
       "================================================================="
      ]
     },
     "execution_count": 12,
     "metadata": {},
     "output_type": "execute_result"
    }
   ],
   "source": [
    "model = PackPaddedLSTM()\n",
    "from torchinfo import summary\n",
    "summary(model)"
   ]
  },
  {
   "cell_type": "code",
   "execution_count": 14,
   "metadata": {},
   "outputs": [
    {
     "name": "stdout",
     "output_type": "stream",
     "text": [
      "[PackPaddedLSTM(\n",
      "  (embedding): Embedding(60, 128)\n",
      "  (lstm): LSTM(128, 32)\n",
      "  (hidden2out): Linear(in_features=32, out_features=18, bias=True)\n",
      "  (dropout_layer): Dropout(p=0.2, inplace=False)\n",
      "), Embedding(60, 128), LSTM(128, 32), Linear(in_features=32, out_features=18, bias=True), Dropout(p=0.2, inplace=False)]\n"
     ]
    }
   ],
   "source": [
    "m_list = []\n",
    "for _, m in model.named_modules():\n",
    "    m_list.append(m)\n",
    "print(m_list)"
   ]
  },
  {
   "cell_type": "code",
   "execution_count": null,
   "metadata": {},
   "outputs": [],
   "source": []
  },
  {
   "cell_type": "code",
   "execution_count": 8,
   "metadata": {},
   "outputs": [],
   "source": [
    "from parsers import ModelParser\n",
    "parser = ModelParser(model)\n",
    "architecture = parser.parse(verbose=False)"
   ]
  },
  {
   "cell_type": "code",
   "execution_count": 9,
   "metadata": {},
   "outputs": [
    {
     "data": {
      "text/plain": [
       "'LSTM.json\\\\architecture.json'"
      ]
     },
     "execution_count": 9,
     "metadata": {},
     "output_type": "execute_result"
    }
   ],
   "source": [
    "out_path = \"LSTM.json\"\n",
    "parser.export(out_path)"
   ]
  },
  {
   "cell_type": "code",
   "execution_count": 1,
   "metadata": {},
   "outputs": [],
   "source": [
    "from models.relaynet.relay_net import ReLayNet\n",
    "# from models.hrnet.model4c import HRNetRefine\n",
    "# from models.hrnet.channelconfig import get_cfg_defaults\n",
    "import json\n",
    "import re\n",
    "import torch\n",
    "import inspect\n",
    "\n",
    "from parsers import ModelParser"
   ]
  },
  {
   "cell_type": "code",
   "execution_count": 12,
   "metadata": {},
   "outputs": [],
   "source": [
    "model_params = {\n",
    "    'num_channels': 1,\n",
    "    'num_filters': 64,\n",
    "    'kernel_h': 7,\n",
    "    'kernel_w': 3,\n",
    "    'kernel_c': 1,\n",
    "    'stride_conv': 1,\n",
    "    'pool': 2,\n",
    "    'stride_pool': 2,\n",
    "    'num_class': 3,\n",
    "    'epochs': 6\n",
    "}"
   ]
  },
  {
   "cell_type": "code",
   "execution_count": 8,
   "metadata": {},
   "outputs": [],
   "source": [
    "configs = get_cfg_defaults()\n",
    "model = HRNetRefine(configs)\n",
    "parser = ModelParser(model)\n",
    "architecture = parser.parse(verbose=False)"
   ]
  },
  {
   "cell_type": "code",
   "execution_count": null,
   "metadata": {},
   "outputs": [],
   "source": [
    "pytest_list = []\n",
    "for i in range(len(layers_json)):\n",
    "    pytest_list.append(layers_json[i]['l_type'])\n",
    "return layers_json, pytest_list"
   ]
  },
  {
   "cell_type": "code",
   "execution_count": 15,
   "metadata": {},
   "outputs": [
    {
     "name": "stdout",
     "output_type": "stream",
     "text": [
      "29\n"
     ]
    }
   ],
   "source": [
    "print(len(architecture))"
   ]
  },
  {
   "cell_type": "code",
   "execution_count": 32,
   "metadata": {},
   "outputs": [],
   "source": [
    "def model_output(model):\n",
    "    m_list = []\n",
    "    for _, m in model.named_modules():\n",
    "        if len(list(m.named_modules()))==1:\n",
    "            m_list.append(m)\n",
    "    lower_case = []\n",
    "    for i in m_list:\n",
    "        module_name = re.match(\"^\\w+\",str(i)).group()\n",
    "        lower_case.append(module_name)\n",
    "    return m_list, lower_case"
   ]
  },
  {
   "cell_type": "code",
   "execution_count": 34,
   "metadata": {},
   "outputs": [],
   "source": [
    "m_list, lower_case = model_output(model)\n",
    "assert lower_case == pytest_list"
   ]
  },
  {
   "cell_type": "code",
   "execution_count": 16,
   "metadata": {},
   "outputs": [],
   "source": [
    "pytest_list = []\n",
    "for i in range(len(architecture)):\n",
    "    pytest_list.append(architecture[i]['l_type'])"
   ]
  },
  {
   "cell_type": "code",
   "execution_count": 35,
   "metadata": {},
   "outputs": [
    {
     "data": {
      "text/plain": [
       "'json_file\\\\architecture.json\\\\architecture.json'"
      ]
     },
     "execution_count": 35,
     "metadata": {},
     "output_type": "execute_result"
    }
   ],
   "source": [
    "model = ReLayNet(model_params)\n",
    "parser = ModelParser(model)\n",
    "architecture = parser.parse(verbose=False)\n",
    "out_path = \"json_file/architecture.json\"\n",
    "parser.export(out_path)\n"
   ]
  },
  {
   "cell_type": "code",
   "execution_count": 22,
   "metadata": {},
   "outputs": [],
   "source": [
    "model_params = {\n",
    "'num_channels': 1,\n",
    "'num_filters': 64,\n",
    "'kernel_h': 7,\n",
    "'kernel_w': 3,\n",
    "'kernel_c': 1,\n",
    "'stride_conv': 1,\n",
    "'pool': 2,\n",
    "'stride_pool': 2,\n",
    "'num_class': 3,\n",
    "'epochs': 6\n",
    "}\n",
    "# Relaynet\n",
    "model = ReLayNet(model_params)\n",
    "parser = ModelParser(model)\n",
    "layers_json = parser.parse_model()\n",
    "with open(\"model.json\", \"w\") as f:\n",
    "    json.dump(layers_json, f)\n",
    "# HRNET\n",
    "# configs = get_cfg_defaults()\n",
    "# model = HRNetRefine(configs)\n",
    "# parser = ModelParser(model)\n",
    "# layers_json = parser.parse_model()\n",
    "# with open(\"sample.json\", \"w\") as outfile:\n",
    "#     outfile.write(layers_json)"
   ]
  },
  {
   "cell_type": "code",
   "execution_count": 24,
   "metadata": {},
   "outputs": [
    {
     "data": {
      "text/plain": [
       "29"
      ]
     },
     "execution_count": 24,
     "metadata": {},
     "output_type": "execute_result"
    }
   ],
   "source": [
    "len(layers_json)"
   ]
  },
  {
   "cell_type": "code",
   "execution_count": null,
   "metadata": {},
   "outputs": [],
   "source": [
    "### Pytest"
   ]
  },
  {
   "cell_type": "code",
   "execution_count": null,
   "metadata": {},
   "outputs": [],
   "source": [
    "dictionary = json.load(open(\"sample.json\",\"r\"))\n",
    "pytest_list = []\n",
    "for i in range(len(dictionary)):\n",
    "    pytest_list.append(dictionary[i]['l_type'])\n"
   ]
  },
  {
   "cell_type": "code",
   "execution_count": null,
   "metadata": {},
   "outputs": [
    {
     "name": "stdout",
     "output_type": "stream",
     "text": [
      "29\n"
     ]
    }
   ],
   "source": [
    "m_list = []\n",
    "for name, m in model.named_modules():\n",
    "    if len(list(m.named_modules()))==1:\n",
    "        m_list.append(m)\n",
    "\n",
    "print(len(m_list))\n",
    "# print(m_list)\n",
    "lower_case = []\n",
    "for i in m_list:\n",
    "    module_name = re.match(\"^\\w+\",str(i)).group()\n",
    "    lower_case.append(module_name.lower())"
   ]
  },
  {
   "cell_type": "code",
   "execution_count": null,
   "metadata": {},
   "outputs": [],
   "source": [
    "assert lower_case == pytest_list"
   ]
  }
 ],
 "metadata": {
  "kernelspec": {
   "display_name": "HPB",
   "language": "python",
   "name": "python3"
  },
  "language_info": {
   "codemirror_mode": {
    "name": "ipython",
    "version": 3
   },
   "file_extension": ".py",
   "mimetype": "text/x-python",
   "name": "python",
   "nbconvert_exporter": "python",
   "pygments_lexer": "ipython3",
   "version": "3.7.15 (default, Nov  9 2022, 10:44:37) [MSC v.1916 64 bit (AMD64)]"
  },
  "orig_nbformat": 4,
  "vscode": {
   "interpreter": {
    "hash": "4933b95360110f39fd98ef39d06679347189f4cc1afd17c632d72ee92ca68b6b"
   }
  }
 },
 "nbformat": 4,
 "nbformat_minor": 2
}
