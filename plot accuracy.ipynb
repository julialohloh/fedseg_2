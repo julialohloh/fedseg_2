{
 "cells": [
  {
   "cell_type": "markdown",
   "metadata": {},
   "source": [
    "# Function to get pixel array"
   ]
  },
  {
   "cell_type": "code",
   "execution_count": 6,
   "metadata": {},
   "outputs": [],
   "source": [
    "from PIL import Image\n",
    "import torch\n",
    "import utils\n",
    "import numpy as np\n",
    "import torchvision.transforms as transforms\n",
    "def get_pixels_array(filelist: list)-> np.array:\n",
    "    \"\"\"Function to obtain pixels array of image in filelist\n",
    "    \n",
    "    Args:\n",
    "        filelist (list): list of image paths, can be RGB or greyscale\n",
    "    \n",
    "    Returns:\n",
    "        np.array(list_pixels_arr): Array of list of arrays with pixel values\n",
    "        of each image\n",
    "    \"\"\"\n",
    "\n",
    "    list_pixels_arr = []\n",
    "\n",
    "    for img in filelist:\n",
    "        im = (Image.open(img))\n",
    "        transform = transforms.ToTensor()\n",
    "        tensor = transform(im)\n",
    "        list_pixels_arr.append(tensor)\n",
    "\n",
    "    return list_pixels_arr"
   ]
  },
  {
   "cell_type": "markdown",
   "metadata": {},
   "source": [
    "# Get image array tensors"
   ]
  },
  {
   "cell_type": "code",
   "execution_count": 14,
   "metadata": {},
   "outputs": [],
   "source": [
    "\n",
    "file_paths_1 = utils.get_files_path('train/masks')\n",
    "file_paths_2 = utils.get_files_path('train/masks')\n",
    "\n",
    "list_pixels_arr_1 = get_pixels_array(file_paths_1)\n",
    "list_pixels_arr_2 = get_pixels_array(file_paths_1)\n"
   ]
  },
  {
   "cell_type": "markdown",
   "metadata": {},
   "source": [
    "# Accuracy"
   ]
  },
  {
   "cell_type": "code",
   "execution_count": 9,
   "metadata": {},
   "outputs": [],
   "source": [
    "def getaccuracy(list_pixels_arr_1, list_pixels_arr_2):\n",
    "    accuracy_dict = {}\n",
    "    for i in range(len(list_pixels_arr_1)):\n",
    "        y_pred = list_pixels_arr_1[i]\n",
    "        y_true = list_pixels_arr_2[i]\n",
    "        with torch.no_grad():\n",
    "            correct = torch.eq(y_pred, y_true).int()\n",
    "            accuracy = float(correct.sum()) / float(correct.numel())\n",
    "            accuracy_dict[i] = accuracy\n",
    "    return accuracy_dict\n"
   ]
  },
  {
   "cell_type": "code",
   "execution_count": 10,
   "metadata": {},
   "outputs": [],
   "source": [
    "accuracy_dict = getaccuracy(list_pixels_arr_1, list_pixels_arr_2)"
   ]
  },
  {
   "cell_type": "markdown",
   "metadata": {},
   "source": [
    "# MultiDICE"
   ]
  },
  {
   "cell_type": "code",
   "execution_count": 33,
   "metadata": {},
   "outputs": [],
   "source": [
    "def multiDICE(list_pixels_arr_1, list_pixels_arr_2, num_classes: int) -> tuple[torch.Tensor, torch.Tensor]:\n",
    "    \"\"\"Compute multiclass Sorensen Dice coefficient score between predicted and groundtruth\n",
    "\n",
    "    Args:\n",
    "        outputs (torch.tensor): predicted mask from HRNET model\n",
    "        labels (torch.tensor): ground truth mask\n",
    "\n",
    "    Returns:\n",
    "        dice_score (torch.tensor)\n",
    "\n",
    "    \"\"\"\n",
    "    # dice = torch.mean(dice)\n",
    "    for i in range(len(list_pixels_arr_1)):\n",
    "        y_pred = list_pixels_arr_1[i]\n",
    "        y_true = list_pixels_arr_2[i]\n",
    "        # if num_classes <= 0:\n",
    "        #     raise ValueError(\"num_classes must be more than zero\")\n",
    "\n",
    "        # if y_pred.shape != y_true.shape:\n",
    "        #     raise ValueError(\"outputs and labels should be of the same shape\")\n",
    "        dice_dict = {}\n",
    "        dice_score = []\n",
    "        for num in range(0, num_classes):\n",
    "            intersection = ((y_pred == num) * (y_true == num)).sum()\n",
    "            dice_sum = ((y_pred == num).sum() + (y_true == num).sum())\n",
    "            if dice_sum == 0:\n",
    "                dice_score.append(float(\"nan\"))\n",
    "            else:\n",
    "                dice_score.append((2 * intersection)/dice_sum)\n",
    "            dice_dict[i] = torch.nanmean(torch.tensor(dice_score))\n",
    "    return dice_dict"
   ]
  },
  {
   "cell_type": "code",
   "execution_count": 34,
   "metadata": {},
   "outputs": [
    {
     "data": {
      "text/plain": [
       "{9: tensor(1.)}"
      ]
     },
     "execution_count": 34,
     "metadata": {},
     "output_type": "execute_result"
    }
   ],
   "source": [
    "dice_score = multiDICE(list_pixels_arr_1, list_pixels_arr_2, 1)\n",
    "dice_score"
   ]
  },
  {
   "cell_type": "markdown",
   "metadata": {},
   "source": [
    "# Dump dict in JSON"
   ]
  },
  {
   "cell_type": "code",
   "execution_count": null,
   "metadata": {},
   "outputs": [],
   "source": [
    "import json\n",
    "import os\n",
    "import glob\n",
    "import pandas as pd\n",
    "import matplotlib.pyplot as plt\n",
    "json_object = json.dumps(accuracy_dict, indent = 4)\n",
    "if os.path.exists(\"json_file\"):\n",
    "    with open('json_file/p1.json', \"w\") as outfile:\n",
    "        outfile.write(json_object)\n",
    "else:\n",
    "    os.makedirs('json_file')\n",
    "    with open('json_file/p1.json', \"w\") as outfile:\n",
    "        outfile.write(json_object)"
   ]
  },
  {
   "cell_type": "markdown",
   "metadata": {},
   "source": [
    "# Open json and plot"
   ]
  },
  {
   "cell_type": "code",
   "execution_count": null,
   "metadata": {},
   "outputs": [
    {
     "data": {
      "image/png": "[encoded data removed]",
      "text/plain": [
       "<Figure size 432x288 with 1 Axes>"
      ]
     },
     "metadata": {
      "needs_background": "light"
     },
     "output_type": "display_data"
    }
   ],
   "source": [
    "with open('json_file/p1.json') as json_file:\n",
    "    data = json.load(json_file)\n",
    "    plt.plot(list(data.keys()),list(data.values()))"
   ]
  }
 ],
 "metadata": {
  "kernelspec": {
   "display_name": "Python 3.9.12 ('env')",
   "language": "python",
   "name": "python3"
  },
  "language_info": {
   "codemirror_mode": {
    "name": "ipython",
    "version": 3
   },
   "file_extension": ".py",
   "mimetype": "text/x-python",
   "name": "python",
   "nbconvert_exporter": "python",
   "pygments_lexer": "ipython3",
   "version": "3.9.12"
  },
  "orig_nbformat": 4,
  "vscode": {
   "interpreter": {
    "hash": "17fe00490cc2e9db9aee342753cc9fab44bd340278fc543adf814f583e433ba5"
   }
  }
 },
 "nbformat": 4,
 "nbformat_minor": 2
}
